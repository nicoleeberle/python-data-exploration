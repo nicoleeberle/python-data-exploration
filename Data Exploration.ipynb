{
 "cells": [
  {
   "cell_type": "markdown",
   "id": "516eb7d9-90c7-4aac-955e-72557c391791",
   "metadata": {},
   "source": [
    "# Executive Summary"
   ]
  },
  {
   "cell_type": "markdown",
   "id": "f4d8e635-dfb8-40df-867e-b13e1ebb36f9",
   "metadata": {},
   "source": [
    "## Research Questions\n",
    "Here we will be looking at customer data from a store that carries multiple categories of items and try to understand if there are any trends in shopping patterns or marketing campaign coupon usages. <br> <br> We have been given 4 different datasets about our customer base:\n",
    "1. Customer Profile: This dataset gives information about the customer such as their birth year, marital status, income, if they have kids and how often they visited the website\n",
    "2. Customer Purchase Types: This dataset gives information about how the customer is shopping (in store, online, catalog) and if they purchased any deals\n",
    "3. Customer Marketing Campaign Usage: This dataset includes yes/no information about coupon usage from each marketing campaign. It only contains customers that have used a marketing campaign coupon.\n",
    "4. Customer Spends: This data set gives the amount spent in each category for each customer over the last 2 years"
   ]
  },
  {
   "cell_type": "markdown",
   "id": "56ff4ca8-a86b-45eb-a7a5-1532cb48c32f",
   "metadata": {},
   "source": [
    "## Research Questions\n",
    "Using the data described above, we want to investigate the following questions in order to gain a better understanding of our customer base and the business\n",
    "1. Do those that have children spend more than those that don't? Does it vary based on if they have kids or teens?\n",
    "2. Do those who visit the website more order online more? Do they spend more in general?\n",
    "4. How does wine spend vary by marital status? What about by Children? \n"
   ]
  },
  {
   "cell_type": "markdown",
   "id": "8d41c580-17e0-4523-a2a1-15f203242f09",
   "metadata": {},
   "source": [
    "## Results Summary\n",
    "In the below analysis, we import, clean and explore our data in order to answer the above research questions. Through this process we discovered that: \n",
    "1. Customers without kids are more likely to spend the most, followed by customers with teens. Customers with kids spend the least\n",
    "2. Visiting the website does not have a strong correlation with ordering online or with spending more. \n",
    "3. Wine spend does not vary much by Marital Status, but those with less children are more likely to spend more on wine than those with more children. "
   ]
  },
  {
   "cell_type": "markdown",
   "id": "94f9afeb-1a0e-44e0-9b34-76a3d2694960",
   "metadata": {},
   "source": [
    "Read through the report to see the analysis and visuals that support these results."
   ]
  },
  {
   "cell_type": "markdown",
   "id": "21b6b0f5-719c-4959-a70a-1e0ba72110b3",
   "metadata": {},
   "source": [
    "# Analysis"
   ]
  },
  {
   "cell_type": "markdown",
   "id": "1b675b81-583d-4dc6-92f5-62447a5d07c5",
   "metadata": {},
   "source": [
    "## Data Upload and Merging"
   ]
  },
  {
   "cell_type": "code",
   "execution_count": 1,
   "id": "fae08d5c-dc17-47b7-bc68-94fbc2703cdd",
   "metadata": {},
   "outputs": [],
   "source": [
    "# import libraries \n",
    "import pandas as pd\n",
    "import numpy as np\n",
    "from pandas import DataFrame, Series\n",
    "import matplotlib.pyplot as plt\n",
    "%matplotlib inline\n",
    "import seaborn as sns\n",
    "import os\n",
    "import datetime\n",
    "from datetime import datetime\n",
    "#os.getcwd()"
   ]
  },
  {
   "cell_type": "code",
   "execution_count": 2,
   "id": "0bb1bb1b-aad9-485e-a770-2a77e3112ac5",
   "metadata": {},
   "outputs": [],
   "source": [
    "# Importing datasets\n",
    "CustomerProfile = pd.read_csv('CustomerProfile.csv')\n",
    "CustomerPurchaseTypes = pd.read_csv('CustomerPurchaseTypes.csv')\n",
    "CustomerSpends = pd.read_csv('CustomerSpends.csv')\n",
    "CustomerMarketingCampaignUsage = pd.read_csv('CustomerMarketingCampaignUsage.csv')"
   ]
  },
  {
   "cell_type": "code",
   "execution_count": 3,
   "id": "8e13ace1-00ba-46f5-8dfd-4263dfa0c55b",
   "metadata": {},
   "outputs": [
    {
     "data": {
      "text/html": [
       "<div>\n",
       "<style scoped>\n",
       "    .dataframe tbody tr th:only-of-type {\n",
       "        vertical-align: middle;\n",
       "    }\n",
       "\n",
       "    .dataframe tbody tr th {\n",
       "        vertical-align: top;\n",
       "    }\n",
       "\n",
       "    .dataframe thead th {\n",
       "        text-align: right;\n",
       "    }\n",
       "</style>\n",
       "<table border=\"1\" class=\"dataframe\">\n",
       "  <thead>\n",
       "    <tr style=\"text-align: right;\">\n",
       "      <th></th>\n",
       "      <th>ID</th>\n",
       "      <th>Year_Birth</th>\n",
       "      <th>Marital_Status</th>\n",
       "      <th>Income</th>\n",
       "      <th>Kidhome</th>\n",
       "      <th>Teenhome</th>\n",
       "      <th>Dt_Customer</th>\n",
       "    </tr>\n",
       "  </thead>\n",
       "  <tbody>\n",
       "    <tr>\n",
       "      <th>0</th>\n",
       "      <td>1826</td>\n",
       "      <td>1970</td>\n",
       "      <td>Divorced</td>\n",
       "      <td>$84,835.00</td>\n",
       "      <td>0</td>\n",
       "      <td>0</td>\n",
       "      <td>6/16/2014</td>\n",
       "    </tr>\n",
       "    <tr>\n",
       "      <th>1</th>\n",
       "      <td>1</td>\n",
       "      <td>1961</td>\n",
       "      <td>Single</td>\n",
       "      <td>$57,091.00</td>\n",
       "      <td>0</td>\n",
       "      <td>0</td>\n",
       "      <td>6/15/2014</td>\n",
       "    </tr>\n",
       "    <tr>\n",
       "      <th>2</th>\n",
       "      <td>10476</td>\n",
       "      <td>1958</td>\n",
       "      <td>Married</td>\n",
       "      <td>$67,267.00</td>\n",
       "      <td>0</td>\n",
       "      <td>1</td>\n",
       "      <td>5/13/2014</td>\n",
       "    </tr>\n",
       "    <tr>\n",
       "      <th>3</th>\n",
       "      <td>1386</td>\n",
       "      <td>1967</td>\n",
       "      <td>Together</td>\n",
       "      <td>$32,474.00</td>\n",
       "      <td>1</td>\n",
       "      <td>1</td>\n",
       "      <td>5/11/2014</td>\n",
       "    </tr>\n",
       "    <tr>\n",
       "      <th>4</th>\n",
       "      <td>5371</td>\n",
       "      <td>1989</td>\n",
       "      <td>Single</td>\n",
       "      <td>$21,474.00</td>\n",
       "      <td>1</td>\n",
       "      <td>0</td>\n",
       "      <td>4/8/2014</td>\n",
       "    </tr>\n",
       "  </tbody>\n",
       "</table>\n",
       "</div>"
      ],
      "text/plain": [
       "      ID  Year_Birth Marital_Status      Income   Kidhome  Teenhome  \\\n",
       "0   1826        1970       Divorced  $84,835.00         0         0   \n",
       "1      1        1961         Single  $57,091.00         0         0   \n",
       "2  10476        1958        Married  $67,267.00         0         1   \n",
       "3   1386        1967       Together  $32,474.00         1         1   \n",
       "4   5371        1989         Single  $21,474.00         1         0   \n",
       "\n",
       "  Dt_Customer  \n",
       "0   6/16/2014  \n",
       "1   6/15/2014  \n",
       "2   5/13/2014  \n",
       "3   5/11/2014  \n",
       "4    4/8/2014  "
      ]
     },
     "execution_count": 3,
     "metadata": {},
     "output_type": "execute_result"
    }
   ],
   "source": [
    "# preview data sets\n",
    "CustomerProfile.head()"
   ]
  },
  {
   "cell_type": "code",
   "execution_count": 4,
   "id": "874e1847-8073-4ab3-a9f6-a624fa45203f",
   "metadata": {},
   "outputs": [
    {
     "data": {
      "text/html": [
       "<div>\n",
       "<style scoped>\n",
       "    .dataframe tbody tr th:only-of-type {\n",
       "        vertical-align: middle;\n",
       "    }\n",
       "\n",
       "    .dataframe tbody tr th {\n",
       "        vertical-align: top;\n",
       "    }\n",
       "\n",
       "    .dataframe thead th {\n",
       "        text-align: right;\n",
       "    }\n",
       "</style>\n",
       "<table border=\"1\" class=\"dataframe\">\n",
       "  <thead>\n",
       "    <tr style=\"text-align: right;\">\n",
       "      <th></th>\n",
       "      <th>ID</th>\n",
       "      <th>NumDealsPurchases</th>\n",
       "      <th>NumWebPurchases</th>\n",
       "      <th>NumCatalogPurchases</th>\n",
       "      <th>NumStorePurchases</th>\n",
       "      <th>NumWebVisitsMonth</th>\n",
       "    </tr>\n",
       "  </thead>\n",
       "  <tbody>\n",
       "    <tr>\n",
       "      <th>0</th>\n",
       "      <td>1826</td>\n",
       "      <td>1</td>\n",
       "      <td>4</td>\n",
       "      <td>4</td>\n",
       "      <td>6</td>\n",
       "      <td>1</td>\n",
       "    </tr>\n",
       "    <tr>\n",
       "      <th>1</th>\n",
       "      <td>1</td>\n",
       "      <td>1</td>\n",
       "      <td>7</td>\n",
       "      <td>3</td>\n",
       "      <td>7</td>\n",
       "      <td>5</td>\n",
       "    </tr>\n",
       "    <tr>\n",
       "      <th>2</th>\n",
       "      <td>10476</td>\n",
       "      <td>1</td>\n",
       "      <td>3</td>\n",
       "      <td>2</td>\n",
       "      <td>5</td>\n",
       "      <td>2</td>\n",
       "    </tr>\n",
       "    <tr>\n",
       "      <th>3</th>\n",
       "      <td>1386</td>\n",
       "      <td>1</td>\n",
       "      <td>1</td>\n",
       "      <td>0</td>\n",
       "      <td>2</td>\n",
       "      <td>7</td>\n",
       "    </tr>\n",
       "    <tr>\n",
       "      <th>4</th>\n",
       "      <td>5371</td>\n",
       "      <td>2</td>\n",
       "      <td>3</td>\n",
       "      <td>1</td>\n",
       "      <td>2</td>\n",
       "      <td>7</td>\n",
       "    </tr>\n",
       "  </tbody>\n",
       "</table>\n",
       "</div>"
      ],
      "text/plain": [
       "      ID  NumDealsPurchases  NumWebPurchases  NumCatalogPurchases  \\\n",
       "0   1826                  1                4                    4   \n",
       "1      1                  1                7                    3   \n",
       "2  10476                  1                3                    2   \n",
       "3   1386                  1                1                    0   \n",
       "4   5371                  2                3                    1   \n",
       "\n",
       "   NumStorePurchases  NumWebVisitsMonth  \n",
       "0                  6                  1  \n",
       "1                  7                  5  \n",
       "2                  5                  2  \n",
       "3                  2                  7  \n",
       "4                  2                  7  "
      ]
     },
     "execution_count": 4,
     "metadata": {},
     "output_type": "execute_result"
    }
   ],
   "source": [
    "CustomerPurchaseTypes.head()"
   ]
  },
  {
   "cell_type": "code",
   "execution_count": 5,
   "id": "83f161d6-cdf2-4547-9986-ee82cc9f4121",
   "metadata": {},
   "outputs": [
    {
     "data": {
      "text/html": [
       "<div>\n",
       "<style scoped>\n",
       "    .dataframe tbody tr th:only-of-type {\n",
       "        vertical-align: middle;\n",
       "    }\n",
       "\n",
       "    .dataframe tbody tr th {\n",
       "        vertical-align: top;\n",
       "    }\n",
       "\n",
       "    .dataframe thead th {\n",
       "        text-align: right;\n",
       "    }\n",
       "</style>\n",
       "<table border=\"1\" class=\"dataframe\">\n",
       "  <thead>\n",
       "    <tr style=\"text-align: right;\">\n",
       "      <th></th>\n",
       "      <th>ID</th>\n",
       "      <th>MntWines</th>\n",
       "      <th>MntFruits</th>\n",
       "      <th>MntMeatProducts</th>\n",
       "      <th>MntFishProducts</th>\n",
       "      <th>MntSweetProducts</th>\n",
       "      <th>MntGoldProds</th>\n",
       "    </tr>\n",
       "  </thead>\n",
       "  <tbody>\n",
       "    <tr>\n",
       "      <th>0</th>\n",
       "      <td>1826</td>\n",
       "      <td>189</td>\n",
       "      <td>104</td>\n",
       "      <td>379</td>\n",
       "      <td>111</td>\n",
       "      <td>189</td>\n",
       "      <td>218</td>\n",
       "    </tr>\n",
       "    <tr>\n",
       "      <th>1</th>\n",
       "      <td>1</td>\n",
       "      <td>464</td>\n",
       "      <td>5</td>\n",
       "      <td>64</td>\n",
       "      <td>7</td>\n",
       "      <td>0</td>\n",
       "      <td>37</td>\n",
       "    </tr>\n",
       "    <tr>\n",
       "      <th>2</th>\n",
       "      <td>10476</td>\n",
       "      <td>134</td>\n",
       "      <td>11</td>\n",
       "      <td>59</td>\n",
       "      <td>15</td>\n",
       "      <td>2</td>\n",
       "      <td>30</td>\n",
       "    </tr>\n",
       "    <tr>\n",
       "      <th>3</th>\n",
       "      <td>1386</td>\n",
       "      <td>10</td>\n",
       "      <td>0</td>\n",
       "      <td>1</td>\n",
       "      <td>0</td>\n",
       "      <td>0</td>\n",
       "      <td>0</td>\n",
       "    </tr>\n",
       "    <tr>\n",
       "      <th>4</th>\n",
       "      <td>5371</td>\n",
       "      <td>6</td>\n",
       "      <td>16</td>\n",
       "      <td>24</td>\n",
       "      <td>11</td>\n",
       "      <td>0</td>\n",
       "      <td>34</td>\n",
       "    </tr>\n",
       "  </tbody>\n",
       "</table>\n",
       "</div>"
      ],
      "text/plain": [
       "      ID  MntWines  MntFruits  MntMeatProducts  MntFishProducts  \\\n",
       "0   1826       189        104              379              111   \n",
       "1      1       464          5               64                7   \n",
       "2  10476       134         11               59               15   \n",
       "3   1386        10          0                1                0   \n",
       "4   5371         6         16               24               11   \n",
       "\n",
       "   MntSweetProducts  MntGoldProds  \n",
       "0               189           218  \n",
       "1                 0            37  \n",
       "2                 2            30  \n",
       "3                 0             0  \n",
       "4                 0            34  "
      ]
     },
     "execution_count": 5,
     "metadata": {},
     "output_type": "execute_result"
    }
   ],
   "source": [
    "CustomerSpends.head()"
   ]
  },
  {
   "cell_type": "code",
   "execution_count": 6,
   "id": "a62095b0-e9d8-41c3-a5a0-32fdca22b1fc",
   "metadata": {},
   "outputs": [
    {
     "data": {
      "text/html": [
       "<div>\n",
       "<style scoped>\n",
       "    .dataframe tbody tr th:only-of-type {\n",
       "        vertical-align: middle;\n",
       "    }\n",
       "\n",
       "    .dataframe tbody tr th {\n",
       "        vertical-align: top;\n",
       "    }\n",
       "\n",
       "    .dataframe thead th {\n",
       "        text-align: right;\n",
       "    }\n",
       "</style>\n",
       "<table border=\"1\" class=\"dataframe\">\n",
       "  <thead>\n",
       "    <tr style=\"text-align: right;\">\n",
       "      <th></th>\n",
       "      <th>ID</th>\n",
       "      <th>AcceptedCmp1</th>\n",
       "      <th>AcceptedCmp2</th>\n",
       "      <th>AcceptedCmp3</th>\n",
       "      <th>AcceptedCmp4</th>\n",
       "      <th>AcceptedCmp5</th>\n",
       "      <th>AcceptedCmp6</th>\n",
       "    </tr>\n",
       "  </thead>\n",
       "  <tbody>\n",
       "    <tr>\n",
       "      <th>0</th>\n",
       "      <td>1826</td>\n",
       "      <td>0</td>\n",
       "      <td>0</td>\n",
       "      <td>0</td>\n",
       "      <td>0</td>\n",
       "      <td>0</td>\n",
       "      <td>1</td>\n",
       "    </tr>\n",
       "    <tr>\n",
       "      <th>1</th>\n",
       "      <td>7348</td>\n",
       "      <td>0</td>\n",
       "      <td>0</td>\n",
       "      <td>0</td>\n",
       "      <td>0</td>\n",
       "      <td>0</td>\n",
       "      <td>1</td>\n",
       "    </tr>\n",
       "    <tr>\n",
       "      <th>2</th>\n",
       "      <td>10530</td>\n",
       "      <td>0</td>\n",
       "      <td>0</td>\n",
       "      <td>0</td>\n",
       "      <td>0</td>\n",
       "      <td>0</td>\n",
       "      <td>1</td>\n",
       "    </tr>\n",
       "    <tr>\n",
       "      <th>3</th>\n",
       "      <td>10521</td>\n",
       "      <td>0</td>\n",
       "      <td>0</td>\n",
       "      <td>0</td>\n",
       "      <td>0</td>\n",
       "      <td>0</td>\n",
       "      <td>1</td>\n",
       "    </tr>\n",
       "    <tr>\n",
       "      <th>4</th>\n",
       "      <td>5585</td>\n",
       "      <td>0</td>\n",
       "      <td>0</td>\n",
       "      <td>0</td>\n",
       "      <td>0</td>\n",
       "      <td>0</td>\n",
       "      <td>1</td>\n",
       "    </tr>\n",
       "  </tbody>\n",
       "</table>\n",
       "</div>"
      ],
      "text/plain": [
       "      ID  AcceptedCmp1  AcceptedCmp2  AcceptedCmp3  AcceptedCmp4  \\\n",
       "0   1826             0             0             0             0   \n",
       "1   7348             0             0             0             0   \n",
       "2  10530             0             0             0             0   \n",
       "3  10521             0             0             0             0   \n",
       "4   5585             0             0             0             0   \n",
       "\n",
       "   AcceptedCmp5  AcceptedCmp6  \n",
       "0             0             1  \n",
       "1             0             1  \n",
       "2             0             1  \n",
       "3             0             1  \n",
       "4             0             1  "
      ]
     },
     "execution_count": 6,
     "metadata": {},
     "output_type": "execute_result"
    }
   ],
   "source": [
    "CustomerMarketingCampaignUsage.head()"
   ]
  },
  {
   "cell_type": "code",
   "execution_count": 7,
   "id": "4e71ec7a-7b5f-467d-b31c-c1e3efa5197f",
   "metadata": {},
   "outputs": [],
   "source": [
    "# Merging datasets\n",
    "# each data set is based on the customer ID so we will use that as the join\n",
    "# we know that CustomerProfile, CustomerPurchaseTypes and CustomerSpends files each contain all the customers\n",
    "Merge1 = pd.merge(CustomerProfile, CustomerPurchaseTypes, on='ID', how='inner')\n",
    "Merge2 = pd.merge(Merge1, CustomerSpends, on='ID', how='inner')\n",
    "# CustomerMarketingCampaignUsage only contains customers that applied a marketing coupon, therefore will use left join\n",
    "CustomerCombined = pd.merge(Merge2, CustomerMarketingCampaignUsage, on='ID', how='left').fillna(0)"
   ]
  },
  {
   "cell_type": "code",
   "execution_count": 8,
   "id": "14129c4e-a628-4365-95b3-398b20bf78e6",
   "metadata": {},
   "outputs": [
    {
     "data": {
      "text/plain": [
       "Index(['ID', 'Year_Birth', 'Marital_Status', ' Income ', 'Kidhome', 'Teenhome',\n",
       "       'Dt_Customer', 'NumDealsPurchases', 'NumWebPurchases',\n",
       "       'NumCatalogPurchases', 'NumStorePurchases', 'NumWebVisitsMonth',\n",
       "       'MntWines', 'MntFruits', 'MntMeatProducts', 'MntFishProducts',\n",
       "       'MntSweetProducts', 'MntGoldProds', 'AcceptedCmp1', 'AcceptedCmp2',\n",
       "       'AcceptedCmp3', 'AcceptedCmp4', 'AcceptedCmp5', 'AcceptedCmp6'],\n",
       "      dtype='object')"
      ]
     },
     "execution_count": 8,
     "metadata": {},
     "output_type": "execute_result"
    }
   ],
   "source": [
    "CustomerCombined.columns"
   ]
  },
  {
   "cell_type": "code",
   "execution_count": 9,
   "id": "61afb8f9-212a-4a0e-b80d-6260e28442c9",
   "metadata": {},
   "outputs": [
    {
     "data": {
      "text/html": [
       "<div>\n",
       "<style scoped>\n",
       "    .dataframe tbody tr th:only-of-type {\n",
       "        vertical-align: middle;\n",
       "    }\n",
       "\n",
       "    .dataframe tbody tr th {\n",
       "        vertical-align: top;\n",
       "    }\n",
       "\n",
       "    .dataframe thead th {\n",
       "        text-align: right;\n",
       "    }\n",
       "</style>\n",
       "<table border=\"1\" class=\"dataframe\">\n",
       "  <thead>\n",
       "    <tr style=\"text-align: right;\">\n",
       "      <th></th>\n",
       "      <th>ID</th>\n",
       "      <th>Year_Birth</th>\n",
       "      <th>Marital_Status</th>\n",
       "      <th>Income</th>\n",
       "      <th>Kidhome</th>\n",
       "      <th>Teenhome</th>\n",
       "      <th>Dt_Customer</th>\n",
       "      <th>NumDealsPurchases</th>\n",
       "      <th>NumWebPurchases</th>\n",
       "      <th>NumCatalogPurchases</th>\n",
       "      <th>...</th>\n",
       "      <th>MntMeatProducts</th>\n",
       "      <th>MntFishProducts</th>\n",
       "      <th>MntSweetProducts</th>\n",
       "      <th>MntGoldProds</th>\n",
       "      <th>AcceptedCmp1</th>\n",
       "      <th>AcceptedCmp2</th>\n",
       "      <th>AcceptedCmp3</th>\n",
       "      <th>AcceptedCmp4</th>\n",
       "      <th>AcceptedCmp5</th>\n",
       "      <th>AcceptedCmp6</th>\n",
       "    </tr>\n",
       "  </thead>\n",
       "  <tbody>\n",
       "    <tr>\n",
       "      <th>0</th>\n",
       "      <td>1826</td>\n",
       "      <td>1970</td>\n",
       "      <td>Divorced</td>\n",
       "      <td>$84,835.00</td>\n",
       "      <td>0</td>\n",
       "      <td>0</td>\n",
       "      <td>6/16/2014</td>\n",
       "      <td>1</td>\n",
       "      <td>4</td>\n",
       "      <td>4</td>\n",
       "      <td>...</td>\n",
       "      <td>379</td>\n",
       "      <td>111</td>\n",
       "      <td>189</td>\n",
       "      <td>218</td>\n",
       "      <td>0.0</td>\n",
       "      <td>0.0</td>\n",
       "      <td>0.0</td>\n",
       "      <td>0.0</td>\n",
       "      <td>0.0</td>\n",
       "      <td>1.0</td>\n",
       "    </tr>\n",
       "    <tr>\n",
       "      <th>1</th>\n",
       "      <td>1</td>\n",
       "      <td>1961</td>\n",
       "      <td>Single</td>\n",
       "      <td>$57,091.00</td>\n",
       "      <td>0</td>\n",
       "      <td>0</td>\n",
       "      <td>6/15/2014</td>\n",
       "      <td>1</td>\n",
       "      <td>7</td>\n",
       "      <td>3</td>\n",
       "      <td>...</td>\n",
       "      <td>64</td>\n",
       "      <td>7</td>\n",
       "      <td>0</td>\n",
       "      <td>37</td>\n",
       "      <td>0.0</td>\n",
       "      <td>1.0</td>\n",
       "      <td>0.0</td>\n",
       "      <td>0.0</td>\n",
       "      <td>0.0</td>\n",
       "      <td>1.0</td>\n",
       "    </tr>\n",
       "    <tr>\n",
       "      <th>2</th>\n",
       "      <td>10476</td>\n",
       "      <td>1958</td>\n",
       "      <td>Married</td>\n",
       "      <td>$67,267.00</td>\n",
       "      <td>0</td>\n",
       "      <td>1</td>\n",
       "      <td>5/13/2014</td>\n",
       "      <td>1</td>\n",
       "      <td>3</td>\n",
       "      <td>2</td>\n",
       "      <td>...</td>\n",
       "      <td>59</td>\n",
       "      <td>15</td>\n",
       "      <td>2</td>\n",
       "      <td>30</td>\n",
       "      <td>0.0</td>\n",
       "      <td>0.0</td>\n",
       "      <td>0.0</td>\n",
       "      <td>0.0</td>\n",
       "      <td>0.0</td>\n",
       "      <td>0.0</td>\n",
       "    </tr>\n",
       "    <tr>\n",
       "      <th>3</th>\n",
       "      <td>1386</td>\n",
       "      <td>1967</td>\n",
       "      <td>Together</td>\n",
       "      <td>$32,474.00</td>\n",
       "      <td>1</td>\n",
       "      <td>1</td>\n",
       "      <td>5/11/2014</td>\n",
       "      <td>1</td>\n",
       "      <td>1</td>\n",
       "      <td>0</td>\n",
       "      <td>...</td>\n",
       "      <td>1</td>\n",
       "      <td>0</td>\n",
       "      <td>0</td>\n",
       "      <td>0</td>\n",
       "      <td>0.0</td>\n",
       "      <td>0.0</td>\n",
       "      <td>0.0</td>\n",
       "      <td>0.0</td>\n",
       "      <td>0.0</td>\n",
       "      <td>0.0</td>\n",
       "    </tr>\n",
       "    <tr>\n",
       "      <th>4</th>\n",
       "      <td>5371</td>\n",
       "      <td>1989</td>\n",
       "      <td>Single</td>\n",
       "      <td>$21,474.00</td>\n",
       "      <td>1</td>\n",
       "      <td>0</td>\n",
       "      <td>4/8/2014</td>\n",
       "      <td>2</td>\n",
       "      <td>3</td>\n",
       "      <td>1</td>\n",
       "      <td>...</td>\n",
       "      <td>24</td>\n",
       "      <td>11</td>\n",
       "      <td>0</td>\n",
       "      <td>34</td>\n",
       "      <td>0.0</td>\n",
       "      <td>0.0</td>\n",
       "      <td>1.0</td>\n",
       "      <td>0.0</td>\n",
       "      <td>0.0</td>\n",
       "      <td>1.0</td>\n",
       "    </tr>\n",
       "  </tbody>\n",
       "</table>\n",
       "<p>5 rows × 24 columns</p>\n",
       "</div>"
      ],
      "text/plain": [
       "      ID  Year_Birth Marital_Status      Income   Kidhome  Teenhome  \\\n",
       "0   1826        1970       Divorced  $84,835.00         0         0   \n",
       "1      1        1961         Single  $57,091.00         0         0   \n",
       "2  10476        1958        Married  $67,267.00         0         1   \n",
       "3   1386        1967       Together  $32,474.00         1         1   \n",
       "4   5371        1989         Single  $21,474.00         1         0   \n",
       "\n",
       "  Dt_Customer  NumDealsPurchases  NumWebPurchases  NumCatalogPurchases  ...  \\\n",
       "0   6/16/2014                  1                4                    4  ...   \n",
       "1   6/15/2014                  1                7                    3  ...   \n",
       "2   5/13/2014                  1                3                    2  ...   \n",
       "3   5/11/2014                  1                1                    0  ...   \n",
       "4    4/8/2014                  2                3                    1  ...   \n",
       "\n",
       "   MntMeatProducts  MntFishProducts  MntSweetProducts  MntGoldProds  \\\n",
       "0              379              111               189           218   \n",
       "1               64                7                 0            37   \n",
       "2               59               15                 2            30   \n",
       "3                1                0                 0             0   \n",
       "4               24               11                 0            34   \n",
       "\n",
       "   AcceptedCmp1  AcceptedCmp2  AcceptedCmp3  AcceptedCmp4  AcceptedCmp5  \\\n",
       "0           0.0           0.0           0.0           0.0           0.0   \n",
       "1           0.0           1.0           0.0           0.0           0.0   \n",
       "2           0.0           0.0           0.0           0.0           0.0   \n",
       "3           0.0           0.0           0.0           0.0           0.0   \n",
       "4           0.0           0.0           1.0           0.0           0.0   \n",
       "\n",
       "   AcceptedCmp6  \n",
       "0           1.0  \n",
       "1           1.0  \n",
       "2           0.0  \n",
       "3           0.0  \n",
       "4           1.0  \n",
       "\n",
       "[5 rows x 24 columns]"
      ]
     },
     "execution_count": 9,
     "metadata": {},
     "output_type": "execute_result"
    }
   ],
   "source": [
    "CustomerCombined.head()"
   ]
  },
  {
   "cell_type": "markdown",
   "id": "5371dc83-7d70-4deb-8bae-24f7515a5bb4",
   "metadata": {},
   "source": [
    "#### Data Descriptions\n",
    "Definition for each variable, along with example values\n",
    "\n",
    "1. ID: Unique Customer ID. This is the primary key that can be used to identify certain rows. <br>\n",
    "    -  Example Values: 340, 8805, 10623\n",
    "2. Year_Birth: Customer birth year. Used to gauge customer age. <br>\n",
    "    - Example Values: 1970, 1958\n",
    "4. Marital_Status: Customer Marital Status. <br>\n",
    "    -  Example Values: Married, Single, Divorced, Windowed, Together\n",
    "5. Income: Customer Income in Dollars. <br>\n",
    "    -  Example Values: 84835, 43456\n",
    "6. Kidhome: Number of kids in the customers household. <br>\n",
    "    -  Example Values: 0, 1, 2\n",
    "7. Teenhome: Number of teens in the customers household. <br>\n",
    "    -  Example Values: 0, 1, 2\n",
    "8. Dt_Customer: Date customer enrolled in company reward system. <br>\n",
    "    -  Example Values: 4/8/2014, 3/15/2013\n",
    "9. NumDealsPurchases: Number of purchases made with a discount. <br>\n",
    "    -  Example Values: 1, 4, 7\n",
    "10. NumWebPurchases: Number of purchases made on the website. <br>\n",
    "    -  Example Values: 1, 3, 7\n",
    "11. NumCatalogPurchases: Number of purchases made from the catalog. <br>\n",
    "    -  Example Values: 2, 0, 6\n",
    "12. NumStorePurchases: Number of purchases made in store. <br>\n",
    "    -  Example Values: 3, 7, 9\n",
    "13. NumWebVisitsMonth: Number of visits to the website in the last month. <br>\n",
    "    -  Example Values: 2, 4, 5\n",
    "14. MntWines: Amount spent on wine in the last 2 years. <br>\n",
    "    -  Example Values: 431, 275, 80\n",
    "15. MntFruits: Amount spent on fruit in the last 2 years. <br>\n",
    "    -  Example Values: 104, 5, 82\n",
    "16. MntMeatProducts: Amount spent on meat in the last 2 years. <br>\n",
    "    -  Example Values: 11, 57, 535\n",
    "17. MntFishProducts: Amount spent on fish in the last 2 years. <br>\n",
    "    -  Example Values: 0, 111, 21\n",
    "18. MntSweetProducts: Amount spend on sweets in the last 2 years. <br>\n",
    "    -  Example Values: 20, 8, 32\n",
    "19. MntGoldProds: Amount spend on gold in the last 2 years. <br>\n",
    "    -  Example Values: 65, 218, 44\n",
    "20. AcceptedCmp1: 1 if customer used coupon offer from campaign, 0 if customer did not. <br>\n",
    "    -  Example Values: 0, 1\n",
    "21. AcceptedCmp2: 1 if customer used coupon offer from campaign, 0 if customer did not. <br>\n",
    "    -  Example Values: 0, 1\n",
    "22. AcceptedCmp3: 1 if customer used coupon offer from campaign, 0 if customer did not. <br>\n",
    "    -  Example Values: 0, 1\n",
    "23. AcceptedCmp4: 1 if customer used coupon offer from campaign, 0 if customer did not. <br>\n",
    "    -  Example Values: 0, 1\n",
    "24. AcceptedCmp5: 1 if customer used coupon offer from campaign, 0 if customer did not. <br>\n",
    "    -  Example Values: 0, 1\n",
    "25. AcceptedCmp6: 1 if customer used coupon offer from campaign, 0 if customer did not. <br>\n",
    "    -  Example Values: 0, 1\n"
   ]
  },
  {
   "cell_type": "markdown",
   "id": "48e2f48f-379e-45e1-8af4-8983f937e288",
   "metadata": {},
   "source": [
    "## Data Formatting\n",
    "In this section we will check to see if the data formats imported properly and fix any that need adjustments. We also will add relevant columns and make sure that we don't have any missing values. "
   ]
  },
  {
   "cell_type": "code",
   "execution_count": 10,
   "id": "7c40cc2a-0b3c-44be-857f-9f565b870817",
   "metadata": {},
   "outputs": [
    {
     "data": {
      "text/plain": [
       "ID                       int64\n",
       "Year_Birth               int64\n",
       "Marital_Status          object\n",
       " Income                 object\n",
       "Kidhome                  int64\n",
       "Teenhome                 int64\n",
       "Dt_Customer             object\n",
       "NumDealsPurchases        int64\n",
       "NumWebPurchases          int64\n",
       "NumCatalogPurchases      int64\n",
       "NumStorePurchases        int64\n",
       "NumWebVisitsMonth        int64\n",
       "MntWines                 int64\n",
       "MntFruits                int64\n",
       "MntMeatProducts          int64\n",
       "MntFishProducts          int64\n",
       "MntSweetProducts         int64\n",
       "MntGoldProds             int64\n",
       "AcceptedCmp1           float64\n",
       "AcceptedCmp2           float64\n",
       "AcceptedCmp3           float64\n",
       "AcceptedCmp4           float64\n",
       "AcceptedCmp5           float64\n",
       "AcceptedCmp6           float64\n",
       "dtype: object"
      ]
     },
     "execution_count": 10,
     "metadata": {},
     "output_type": "execute_result"
    }
   ],
   "source": [
    "# Check how data types imported\n",
    "CustomerCombined.dtypes"
   ]
  },
  {
   "cell_type": "code",
   "execution_count": 11,
   "id": "5c77abbc-aab1-425f-9cb4-662022e118ed",
   "metadata": {},
   "outputs": [
    {
     "name": "stderr",
     "output_type": "stream",
     "text": [
      "<ipython-input-11-5377d6ffb841>:5: FutureWarning: The default value of regex will change from True to False in a future version. In addition, single character regular expressions will*not* be treated as literal strings when regex=True.\n",
      "  CustomerCombined['Income'] = CustomerCombined['Income'].str.replace('$','')\n"
     ]
    },
    {
     "data": {
      "text/plain": [
       "ID                              int64\n",
       "Year_Birth                      int64\n",
       "Marital_Status                 object\n",
       "Income                        float64\n",
       "Kidhome                         int64\n",
       "Teenhome                        int64\n",
       "Dt_Customer            datetime64[ns]\n",
       "NumDealsPurchases               int64\n",
       "NumWebPurchases                 int64\n",
       "NumCatalogPurchases             int64\n",
       "NumStorePurchases               int64\n",
       "NumWebVisitsMonth               int64\n",
       "MntWines                        int64\n",
       "MntFruits                       int64\n",
       "MntMeatProducts                 int64\n",
       "MntFishProducts                 int64\n",
       "MntSweetProducts                int64\n",
       "MntGoldProds                    int64\n",
       "AcceptedCmp1                     bool\n",
       "AcceptedCmp2                     bool\n",
       "AcceptedCmp3                     bool\n",
       "AcceptedCmp4                     bool\n",
       "AcceptedCmp5                     bool\n",
       "AcceptedCmp6                     bool\n",
       "dtype: object"
      ]
     },
     "execution_count": 11,
     "metadata": {},
     "output_type": "execute_result"
    }
   ],
   "source": [
    "# Column Adjustments\n",
    "# Income column name has a space in front of the word income, removing space\n",
    "CustomerCombined.columns = CustomerCombined.columns.str.replace(' ','')\n",
    "# Fixing data types\n",
    "CustomerCombined['Income'] = CustomerCombined['Income'].str.replace('$','')\n",
    "CustomerCombined['Income'] = CustomerCombined['Income'].str.replace(',','')\n",
    "CustomerCombined['Income'] = CustomerCombined['Income'].astype('float')\n",
    "CustomerCombined[['AcceptedCmp1','AcceptedCmp2','AcceptedCmp3','AcceptedCmp4','AcceptedCmp5','AcceptedCmp5','AcceptedCmp6']] = CustomerCombined[['AcceptedCmp1','AcceptedCmp2','AcceptedCmp3','AcceptedCmp4','AcceptedCmp5','AcceptedCmp5','AcceptedCmp6']].astype('bool')\n",
    "CustomerCombined['Dt_Customer'] = CustomerCombined['Dt_Customer'].astype('str')\n",
    "CustomerCombined['Dt_Customer'] = pd.to_datetime(CustomerCombined['Dt_Customer'], format = '%m/%d/%Y')\n",
    "# set ID as index\n",
    "CustomerCombined.set_index('ID')\n",
    "# Check Data Types updated properly\n",
    "CustomerCombined.dtypes"
   ]
  },
  {
   "cell_type": "code",
   "execution_count": 12,
   "id": "4ce659b7-0a50-4c7f-9ed9-1ea404fcdbe3",
   "metadata": {},
   "outputs": [],
   "source": [
    "# combining similar columns to create summary columns\n",
    "# TotalChildren adds up Kidhome and Teenhome to get the total count of children\n",
    "CustomerCombined['TotalChildren'] = CustomerCombined['Kidhome'] + CustomerCombined['Teenhome']\n",
    "# TotalSpend adds up the spend from each category to see how much each customer has spent over the last 2 years\n",
    "Spend = ['MntWines', 'MntFruits', 'MntMeatProducts', 'MntFishProducts', 'MntSweetProducts', 'MntGoldProds']\n",
    "CustomerCombined['TotalSpend'] = CustomerCombined[Spend].sum(axis=1)\n",
    "# TotalPurchases adds up the purchase counts from each type of purchase (Web, Catalog, Store) to see the total purchase counts\n",
    "Purchases = ['NumWebPurchases', 'NumCatalogPurchases', 'NumStorePurchases']\n",
    "CustomerCombined['TotalPurchases'] = CustomerCombined[Purchases].sum(axis=1)\n",
    "# TotalOffersAccepted counts how many offers from marketing campaigns each customer has redeemed\n",
    "Offers = ['AcceptedCmp1', 'AcceptedCmp2', 'AcceptedCmp3', 'AcceptedCmp4','AcceptedCmp5', 'AcceptedCmp6']\n",
    "CustomerCombined['TotalOffersAccepted'] = CustomerCombined[Offers].sum(axis=1)\n",
    "\n",
    "# Formatting age as a date\n",
    "CustomerCombined['Age'] = datetime.now().year - CustomerCombined['Year_Birth']\n",
    "\n",
    "# recoding Marital_Status values\n",
    "CustomerCombined['Marital_Status'] = np.where(CustomerCombined.Marital_Status=='Alone','Single',np.where(CustomerCombined.Marital_Status=='Absurd','Single',np.where(CustomerCombined.Marital_Status=='YOLO','Single',CustomerCombined['Marital_Status'])))\n",
    "\n",
    "# bining website activity levels\n",
    "CustomerCombined['WebsiteVisitQuartile'] = pd.qcut(CustomerCombined['NumWebVisitsMonth'],4,labels=['First Quartile', 'Second Quartile', 'Third Quartile', 'Fourth Quartile'])"
   ]
  },
  {
   "cell_type": "code",
   "execution_count": 13,
   "id": "cbf013b8-f8e6-4341-a6ed-13915eaecb5f",
   "metadata": {},
   "outputs": [
    {
     "data": {
      "text/plain": [
       "ID                       0\n",
       "Year_Birth               0\n",
       "Marital_Status           0\n",
       "Income                  24\n",
       "Kidhome                  0\n",
       "Teenhome                 0\n",
       "Dt_Customer              0\n",
       "NumDealsPurchases        0\n",
       "NumWebPurchases          0\n",
       "NumCatalogPurchases      0\n",
       "NumStorePurchases        0\n",
       "NumWebVisitsMonth        0\n",
       "MntWines                 0\n",
       "MntFruits                0\n",
       "MntMeatProducts          0\n",
       "MntFishProducts          0\n",
       "MntSweetProducts         0\n",
       "MntGoldProds             0\n",
       "AcceptedCmp1             0\n",
       "AcceptedCmp2             0\n",
       "AcceptedCmp3             0\n",
       "AcceptedCmp4             0\n",
       "AcceptedCmp5             0\n",
       "AcceptedCmp6             0\n",
       "TotalChildren            0\n",
       "TotalSpend               0\n",
       "TotalPurchases           0\n",
       "TotalOffersAccepted      0\n",
       "Age                      0\n",
       "WebsiteVisitQuartile     0\n",
       "dtype: int64"
      ]
     },
     "execution_count": 13,
     "metadata": {},
     "output_type": "execute_result"
    }
   ],
   "source": [
    "# do we have any missing values? \n",
    "CustomerCombined.isnull().sum()"
   ]
  },
  {
   "cell_type": "code",
   "execution_count": 14,
   "id": "b4ae363a-9330-4721-a83f-1d3e55dab011",
   "metadata": {},
   "outputs": [],
   "source": [
    "# we have 24 blanks in the income column. \n",
    "# don't want to impute with median or mean since income determines a lot about ones life stype and can fluctuate a lot\n",
    "# also is not a large percent of our data so okay to drop\n",
    "CustomerCombined = CustomerCombined.dropna()"
   ]
  },
  {
   "cell_type": "code",
   "execution_count": 15,
   "id": "e38a9b04-8ad7-4128-b8ba-f6af307dbd58",
   "metadata": {},
   "outputs": [],
   "source": [
    "# save a copy of this combined file before you start additional cleaning so you have an original copy of the combined data\n",
    "# CustomerCombined.to_csv('CustomerCombinedNoBlanks.csv')"
   ]
  },
  {
   "cell_type": "markdown",
   "id": "171ecee8-c2b3-4778-b393-304c62943f4c",
   "metadata": {},
   "source": [
    "## Data Exploration\n",
    "In this section we will look at our variables in order to get a better understanding of our data and to check for outliers. We will start off with a general overview of our variables to begin to get a better sense of them. After that, we will dive deeper into our continuous variables and our categorical variables. "
   ]
  },
  {
   "cell_type": "markdown",
   "id": "ba372f98-d5b5-47fd-8fa4-90c6f6eb6cc7",
   "metadata": {},
   "source": [
    "#### Part 1: General Overview"
   ]
  },
  {
   "cell_type": "code",
   "execution_count": 16,
   "id": "8d75995f-a1ab-45bf-8fd0-74fb4669ddab",
   "metadata": {},
   "outputs": [
    {
     "name": "stdout",
     "output_type": "stream",
     "text": [
      "<class 'pandas.core.frame.DataFrame'>\n",
      "Int64Index: 2216 entries, 0 to 2239\n",
      "Data columns (total 30 columns):\n",
      " #   Column                Non-Null Count  Dtype         \n",
      "---  ------                --------------  -----         \n",
      " 0   ID                    2216 non-null   int64         \n",
      " 1   Year_Birth            2216 non-null   int64         \n",
      " 2   Marital_Status        2216 non-null   object        \n",
      " 3   Income                2216 non-null   float64       \n",
      " 4   Kidhome               2216 non-null   int64         \n",
      " 5   Teenhome              2216 non-null   int64         \n",
      " 6   Dt_Customer           2216 non-null   datetime64[ns]\n",
      " 7   NumDealsPurchases     2216 non-null   int64         \n",
      " 8   NumWebPurchases       2216 non-null   int64         \n",
      " 9   NumCatalogPurchases   2216 non-null   int64         \n",
      " 10  NumStorePurchases     2216 non-null   int64         \n",
      " 11  NumWebVisitsMonth     2216 non-null   int64         \n",
      " 12  MntWines              2216 non-null   int64         \n",
      " 13  MntFruits             2216 non-null   int64         \n",
      " 14  MntMeatProducts       2216 non-null   int64         \n",
      " 15  MntFishProducts       2216 non-null   int64         \n",
      " 16  MntSweetProducts      2216 non-null   int64         \n",
      " 17  MntGoldProds          2216 non-null   int64         \n",
      " 18  AcceptedCmp1          2216 non-null   bool          \n",
      " 19  AcceptedCmp2          2216 non-null   bool          \n",
      " 20  AcceptedCmp3          2216 non-null   bool          \n",
      " 21  AcceptedCmp4          2216 non-null   bool          \n",
      " 22  AcceptedCmp5          2216 non-null   bool          \n",
      " 23  AcceptedCmp6          2216 non-null   bool          \n",
      " 24  TotalChildren         2216 non-null   int64         \n",
      " 25  TotalSpend            2216 non-null   int64         \n",
      " 26  TotalPurchases        2216 non-null   int64         \n",
      " 27  TotalOffersAccepted   2216 non-null   int64         \n",
      " 28  Age                   2216 non-null   int64         \n",
      " 29  WebsiteVisitQuartile  2216 non-null   category      \n",
      "dtypes: bool(6), category(1), datetime64[ns](1), float64(1), int64(20), object(1)\n",
      "memory usage: 430.8+ KB\n"
     ]
    }
   ],
   "source": [
    "CustomerCombined.info()"
   ]
  },
  {
   "cell_type": "code",
   "execution_count": 17,
   "id": "c8ffea89-cc23-492a-80f8-3af2e00ff2fd",
   "metadata": {},
   "outputs": [
    {
     "data": {
      "text/html": [
       "<div>\n",
       "<style scoped>\n",
       "    .dataframe tbody tr th:only-of-type {\n",
       "        vertical-align: middle;\n",
       "    }\n",
       "\n",
       "    .dataframe tbody tr th {\n",
       "        vertical-align: top;\n",
       "    }\n",
       "\n",
       "    .dataframe thead th {\n",
       "        text-align: right;\n",
       "    }\n",
       "</style>\n",
       "<table border=\"1\" class=\"dataframe\">\n",
       "  <thead>\n",
       "    <tr style=\"text-align: right;\">\n",
       "      <th></th>\n",
       "      <th>count</th>\n",
       "      <th>mean</th>\n",
       "      <th>std</th>\n",
       "      <th>min</th>\n",
       "      <th>25%</th>\n",
       "      <th>50%</th>\n",
       "      <th>75%</th>\n",
       "      <th>max</th>\n",
       "    </tr>\n",
       "  </thead>\n",
       "  <tbody>\n",
       "    <tr>\n",
       "      <th>ID</th>\n",
       "      <td>2216.00</td>\n",
       "      <td>5588.35</td>\n",
       "      <td>3249.38</td>\n",
       "      <td>0.00</td>\n",
       "      <td>2814.75</td>\n",
       "      <td>5458.50</td>\n",
       "      <td>8421.75</td>\n",
       "      <td>11191.00</td>\n",
       "    </tr>\n",
       "    <tr>\n",
       "      <th>Year_Birth</th>\n",
       "      <td>2216.00</td>\n",
       "      <td>1968.82</td>\n",
       "      <td>11.99</td>\n",
       "      <td>1893.00</td>\n",
       "      <td>1959.00</td>\n",
       "      <td>1970.00</td>\n",
       "      <td>1977.00</td>\n",
       "      <td>1996.00</td>\n",
       "    </tr>\n",
       "    <tr>\n",
       "      <th>Income</th>\n",
       "      <td>2216.00</td>\n",
       "      <td>52247.25</td>\n",
       "      <td>25173.08</td>\n",
       "      <td>1730.00</td>\n",
       "      <td>35303.00</td>\n",
       "      <td>51381.50</td>\n",
       "      <td>68522.00</td>\n",
       "      <td>666666.00</td>\n",
       "    </tr>\n",
       "    <tr>\n",
       "      <th>Kidhome</th>\n",
       "      <td>2216.00</td>\n",
       "      <td>0.44</td>\n",
       "      <td>0.54</td>\n",
       "      <td>0.00</td>\n",
       "      <td>0.00</td>\n",
       "      <td>0.00</td>\n",
       "      <td>1.00</td>\n",
       "      <td>2.00</td>\n",
       "    </tr>\n",
       "    <tr>\n",
       "      <th>Teenhome</th>\n",
       "      <td>2216.00</td>\n",
       "      <td>0.51</td>\n",
       "      <td>0.54</td>\n",
       "      <td>0.00</td>\n",
       "      <td>0.00</td>\n",
       "      <td>0.00</td>\n",
       "      <td>1.00</td>\n",
       "      <td>2.00</td>\n",
       "    </tr>\n",
       "    <tr>\n",
       "      <th>NumDealsPurchases</th>\n",
       "      <td>2216.00</td>\n",
       "      <td>2.32</td>\n",
       "      <td>1.92</td>\n",
       "      <td>0.00</td>\n",
       "      <td>1.00</td>\n",
       "      <td>2.00</td>\n",
       "      <td>3.00</td>\n",
       "      <td>15.00</td>\n",
       "    </tr>\n",
       "    <tr>\n",
       "      <th>NumWebPurchases</th>\n",
       "      <td>2216.00</td>\n",
       "      <td>4.09</td>\n",
       "      <td>2.74</td>\n",
       "      <td>0.00</td>\n",
       "      <td>2.00</td>\n",
       "      <td>4.00</td>\n",
       "      <td>6.00</td>\n",
       "      <td>27.00</td>\n",
       "    </tr>\n",
       "    <tr>\n",
       "      <th>NumCatalogPurchases</th>\n",
       "      <td>2216.00</td>\n",
       "      <td>2.67</td>\n",
       "      <td>2.93</td>\n",
       "      <td>0.00</td>\n",
       "      <td>0.00</td>\n",
       "      <td>2.00</td>\n",
       "      <td>4.00</td>\n",
       "      <td>28.00</td>\n",
       "    </tr>\n",
       "    <tr>\n",
       "      <th>NumStorePurchases</th>\n",
       "      <td>2216.00</td>\n",
       "      <td>5.80</td>\n",
       "      <td>3.25</td>\n",
       "      <td>0.00</td>\n",
       "      <td>3.00</td>\n",
       "      <td>5.00</td>\n",
       "      <td>8.00</td>\n",
       "      <td>13.00</td>\n",
       "    </tr>\n",
       "    <tr>\n",
       "      <th>NumWebVisitsMonth</th>\n",
       "      <td>2216.00</td>\n",
       "      <td>5.32</td>\n",
       "      <td>2.43</td>\n",
       "      <td>0.00</td>\n",
       "      <td>3.00</td>\n",
       "      <td>6.00</td>\n",
       "      <td>7.00</td>\n",
       "      <td>20.00</td>\n",
       "    </tr>\n",
       "    <tr>\n",
       "      <th>MntWines</th>\n",
       "      <td>2216.00</td>\n",
       "      <td>305.09</td>\n",
       "      <td>337.33</td>\n",
       "      <td>0.00</td>\n",
       "      <td>24.00</td>\n",
       "      <td>174.50</td>\n",
       "      <td>505.00</td>\n",
       "      <td>1493.00</td>\n",
       "    </tr>\n",
       "    <tr>\n",
       "      <th>MntFruits</th>\n",
       "      <td>2216.00</td>\n",
       "      <td>26.36</td>\n",
       "      <td>39.79</td>\n",
       "      <td>0.00</td>\n",
       "      <td>2.00</td>\n",
       "      <td>8.00</td>\n",
       "      <td>33.00</td>\n",
       "      <td>199.00</td>\n",
       "    </tr>\n",
       "    <tr>\n",
       "      <th>MntMeatProducts</th>\n",
       "      <td>2216.00</td>\n",
       "      <td>167.00</td>\n",
       "      <td>224.28</td>\n",
       "      <td>0.00</td>\n",
       "      <td>16.00</td>\n",
       "      <td>68.00</td>\n",
       "      <td>232.25</td>\n",
       "      <td>1725.00</td>\n",
       "    </tr>\n",
       "    <tr>\n",
       "      <th>MntFishProducts</th>\n",
       "      <td>2216.00</td>\n",
       "      <td>37.64</td>\n",
       "      <td>54.75</td>\n",
       "      <td>0.00</td>\n",
       "      <td>3.00</td>\n",
       "      <td>12.00</td>\n",
       "      <td>50.00</td>\n",
       "      <td>259.00</td>\n",
       "    </tr>\n",
       "    <tr>\n",
       "      <th>MntSweetProducts</th>\n",
       "      <td>2216.00</td>\n",
       "      <td>27.03</td>\n",
       "      <td>41.07</td>\n",
       "      <td>0.00</td>\n",
       "      <td>1.00</td>\n",
       "      <td>8.00</td>\n",
       "      <td>33.00</td>\n",
       "      <td>262.00</td>\n",
       "    </tr>\n",
       "    <tr>\n",
       "      <th>MntGoldProds</th>\n",
       "      <td>2216.00</td>\n",
       "      <td>43.97</td>\n",
       "      <td>51.82</td>\n",
       "      <td>0.00</td>\n",
       "      <td>9.00</td>\n",
       "      <td>24.50</td>\n",
       "      <td>56.00</td>\n",
       "      <td>321.00</td>\n",
       "    </tr>\n",
       "    <tr>\n",
       "      <th>TotalChildren</th>\n",
       "      <td>2216.00</td>\n",
       "      <td>0.95</td>\n",
       "      <td>0.75</td>\n",
       "      <td>0.00</td>\n",
       "      <td>0.00</td>\n",
       "      <td>1.00</td>\n",
       "      <td>1.00</td>\n",
       "      <td>3.00</td>\n",
       "    </tr>\n",
       "    <tr>\n",
       "      <th>TotalSpend</th>\n",
       "      <td>2216.00</td>\n",
       "      <td>607.08</td>\n",
       "      <td>602.90</td>\n",
       "      <td>5.00</td>\n",
       "      <td>69.00</td>\n",
       "      <td>396.50</td>\n",
       "      <td>1048.00</td>\n",
       "      <td>2525.00</td>\n",
       "    </tr>\n",
       "    <tr>\n",
       "      <th>TotalPurchases</th>\n",
       "      <td>2216.00</td>\n",
       "      <td>12.56</td>\n",
       "      <td>7.20</td>\n",
       "      <td>0.00</td>\n",
       "      <td>6.00</td>\n",
       "      <td>12.00</td>\n",
       "      <td>18.00</td>\n",
       "      <td>32.00</td>\n",
       "    </tr>\n",
       "    <tr>\n",
       "      <th>TotalOffersAccepted</th>\n",
       "      <td>2216.00</td>\n",
       "      <td>0.45</td>\n",
       "      <td>0.89</td>\n",
       "      <td>0.00</td>\n",
       "      <td>0.00</td>\n",
       "      <td>0.00</td>\n",
       "      <td>1.00</td>\n",
       "      <td>5.00</td>\n",
       "    </tr>\n",
       "    <tr>\n",
       "      <th>Age</th>\n",
       "      <td>2216.00</td>\n",
       "      <td>54.18</td>\n",
       "      <td>11.99</td>\n",
       "      <td>27.00</td>\n",
       "      <td>46.00</td>\n",
       "      <td>53.00</td>\n",
       "      <td>64.00</td>\n",
       "      <td>130.00</td>\n",
       "    </tr>\n",
       "  </tbody>\n",
       "</table>\n",
       "</div>"
      ],
      "text/plain": [
       "                      count     mean      std     min      25%      50%  \\\n",
       "ID                  2216.00  5588.35  3249.38    0.00  2814.75  5458.50   \n",
       "Year_Birth          2216.00  1968.82    11.99 1893.00  1959.00  1970.00   \n",
       "Income              2216.00 52247.25 25173.08 1730.00 35303.00 51381.50   \n",
       "Kidhome             2216.00     0.44     0.54    0.00     0.00     0.00   \n",
       "Teenhome            2216.00     0.51     0.54    0.00     0.00     0.00   \n",
       "NumDealsPurchases   2216.00     2.32     1.92    0.00     1.00     2.00   \n",
       "NumWebPurchases     2216.00     4.09     2.74    0.00     2.00     4.00   \n",
       "NumCatalogPurchases 2216.00     2.67     2.93    0.00     0.00     2.00   \n",
       "NumStorePurchases   2216.00     5.80     3.25    0.00     3.00     5.00   \n",
       "NumWebVisitsMonth   2216.00     5.32     2.43    0.00     3.00     6.00   \n",
       "MntWines            2216.00   305.09   337.33    0.00    24.00   174.50   \n",
       "MntFruits           2216.00    26.36    39.79    0.00     2.00     8.00   \n",
       "MntMeatProducts     2216.00   167.00   224.28    0.00    16.00    68.00   \n",
       "MntFishProducts     2216.00    37.64    54.75    0.00     3.00    12.00   \n",
       "MntSweetProducts    2216.00    27.03    41.07    0.00     1.00     8.00   \n",
       "MntGoldProds        2216.00    43.97    51.82    0.00     9.00    24.50   \n",
       "TotalChildren       2216.00     0.95     0.75    0.00     0.00     1.00   \n",
       "TotalSpend          2216.00   607.08   602.90    5.00    69.00   396.50   \n",
       "TotalPurchases      2216.00    12.56     7.20    0.00     6.00    12.00   \n",
       "TotalOffersAccepted 2216.00     0.45     0.89    0.00     0.00     0.00   \n",
       "Age                 2216.00    54.18    11.99   27.00    46.00    53.00   \n",
       "\n",
       "                         75%       max  \n",
       "ID                   8421.75  11191.00  \n",
       "Year_Birth           1977.00   1996.00  \n",
       "Income              68522.00 666666.00  \n",
       "Kidhome                 1.00      2.00  \n",
       "Teenhome                1.00      2.00  \n",
       "NumDealsPurchases       3.00     15.00  \n",
       "NumWebPurchases         6.00     27.00  \n",
       "NumCatalogPurchases     4.00     28.00  \n",
       "NumStorePurchases       8.00     13.00  \n",
       "NumWebVisitsMonth       7.00     20.00  \n",
       "MntWines              505.00   1493.00  \n",
       "MntFruits              33.00    199.00  \n",
       "MntMeatProducts       232.25   1725.00  \n",
       "MntFishProducts        50.00    259.00  \n",
       "MntSweetProducts       33.00    262.00  \n",
       "MntGoldProds           56.00    321.00  \n",
       "TotalChildren           1.00      3.00  \n",
       "TotalSpend           1048.00   2525.00  \n",
       "TotalPurchases         18.00     32.00  \n",
       "TotalOffersAccepted     1.00      5.00  \n",
       "Age                    64.00    130.00  "
      ]
     },
     "execution_count": 17,
     "metadata": {},
     "output_type": "execute_result"
    }
   ],
   "source": [
    "# Numerical Values Summary Statistics\n",
    "pd.set_option('display.float_format', lambda x: '%.2f' % x)\n",
    "CustomerCombined.describe().T"
   ]
  },
  {
   "cell_type": "code",
   "execution_count": 18,
   "id": "80636346-5607-4332-81e5-23e0d7608d84",
   "metadata": {},
   "outputs": [
    {
     "data": {
      "text/html": [
       "<div>\n",
       "<style scoped>\n",
       "    .dataframe tbody tr th:only-of-type {\n",
       "        vertical-align: middle;\n",
       "    }\n",
       "\n",
       "    .dataframe tbody tr th {\n",
       "        vertical-align: top;\n",
       "    }\n",
       "\n",
       "    .dataframe thead th {\n",
       "        text-align: right;\n",
       "    }\n",
       "</style>\n",
       "<table border=\"1\" class=\"dataframe\">\n",
       "  <thead>\n",
       "    <tr style=\"text-align: right;\">\n",
       "      <th></th>\n",
       "      <th>MntWines</th>\n",
       "      <th>MntFruits</th>\n",
       "      <th>MntMeatProducts</th>\n",
       "      <th>MntFishProducts</th>\n",
       "      <th>MntSweetProducts</th>\n",
       "      <th>MntGoldProds</th>\n",
       "      <th>NumWebPurchases</th>\n",
       "      <th>NumCatalogPurchases</th>\n",
       "      <th>NumStorePurchases</th>\n",
       "      <th>TotalSpend</th>\n",
       "      <th>TotalPurchases</th>\n",
       "    </tr>\n",
       "  </thead>\n",
       "  <tbody>\n",
       "    <tr>\n",
       "      <th>456</th>\n",
       "      <td>2</td>\n",
       "      <td>1</td>\n",
       "      <td>1</td>\n",
       "      <td>1</td>\n",
       "      <td>0</td>\n",
       "      <td>1</td>\n",
       "      <td>0</td>\n",
       "      <td>0</td>\n",
       "      <td>0</td>\n",
       "      <td>6</td>\n",
       "      <td>0</td>\n",
       "    </tr>\n",
       "    <tr>\n",
       "      <th>663</th>\n",
       "      <td>5</td>\n",
       "      <td>0</td>\n",
       "      <td>1</td>\n",
       "      <td>1</td>\n",
       "      <td>1</td>\n",
       "      <td>1</td>\n",
       "      <td>0</td>\n",
       "      <td>0</td>\n",
       "      <td>0</td>\n",
       "      <td>9</td>\n",
       "      <td>0</td>\n",
       "    </tr>\n",
       "    <tr>\n",
       "      <th>1291</th>\n",
       "      <td>2</td>\n",
       "      <td>1</td>\n",
       "      <td>1</td>\n",
       "      <td>0</td>\n",
       "      <td>0</td>\n",
       "      <td>1</td>\n",
       "      <td>0</td>\n",
       "      <td>0</td>\n",
       "      <td>0</td>\n",
       "      <td>5</td>\n",
       "      <td>0</td>\n",
       "    </tr>\n",
       "    <tr>\n",
       "      <th>1466</th>\n",
       "      <td>1</td>\n",
       "      <td>1</td>\n",
       "      <td>3</td>\n",
       "      <td>1</td>\n",
       "      <td>1</td>\n",
       "      <td>1</td>\n",
       "      <td>0</td>\n",
       "      <td>0</td>\n",
       "      <td>0</td>\n",
       "      <td>8</td>\n",
       "      <td>0</td>\n",
       "    </tr>\n",
       "    <tr>\n",
       "      <th>1826</th>\n",
       "      <td>1</td>\n",
       "      <td>1</td>\n",
       "      <td>1</td>\n",
       "      <td>1</td>\n",
       "      <td>1</td>\n",
       "      <td>1</td>\n",
       "      <td>0</td>\n",
       "      <td>0</td>\n",
       "      <td>0</td>\n",
       "      <td>6</td>\n",
       "      <td>0</td>\n",
       "    </tr>\n",
       "    <tr>\n",
       "      <th>1925</th>\n",
       "      <td>2</td>\n",
       "      <td>1</td>\n",
       "      <td>2</td>\n",
       "      <td>1</td>\n",
       "      <td>1</td>\n",
       "      <td>1</td>\n",
       "      <td>0</td>\n",
       "      <td>0</td>\n",
       "      <td>0</td>\n",
       "      <td>8</td>\n",
       "      <td>0</td>\n",
       "    </tr>\n",
       "  </tbody>\n",
       "</table>\n",
       "</div>"
      ],
      "text/plain": [
       "      MntWines  MntFruits  MntMeatProducts  MntFishProducts  MntSweetProducts  \\\n",
       "456          2          1                1                1                 0   \n",
       "663          5          0                1                1                 1   \n",
       "1291         2          1                1                0                 0   \n",
       "1466         1          1                3                1                 1   \n",
       "1826         1          1                1                1                 1   \n",
       "1925         2          1                2                1                 1   \n",
       "\n",
       "      MntGoldProds  NumWebPurchases  NumCatalogPurchases  NumStorePurchases  \\\n",
       "456              1                0                    0                  0   \n",
       "663              1                0                    0                  0   \n",
       "1291             1                0                    0                  0   \n",
       "1466             1                0                    0                  0   \n",
       "1826             1                0                    0                  0   \n",
       "1925             1                0                    0                  0   \n",
       "\n",
       "      TotalSpend  TotalPurchases  \n",
       "456            6               0  \n",
       "663            9               0  \n",
       "1291           5               0  \n",
       "1466           8               0  \n",
       "1826           6               0  \n",
       "1925           8               0  "
      ]
     },
     "execution_count": 18,
     "metadata": {},
     "output_type": "execute_result"
    }
   ],
   "source": [
    "# Does it make sense that the TotalPurchases min is 0? How are they a customer if they have no purchases?\n",
    "ZeroTotalPurchases = CustomerCombined.loc[CustomerCombined['TotalPurchases'] == 0]\n",
    "ZeroTotalPurchases[['MntWines', 'MntFruits', 'MntMeatProducts', 'MntFishProducts', 'MntSweetProducts', 'MntGoldProds', 'NumWebPurchases', 'NumCatalogPurchases', 'NumStorePurchases', 'TotalSpend','TotalPurchases']]"
   ]
  },
  {
   "cell_type": "code",
   "execution_count": 19,
   "id": "99ea6ba6-9488-4f4f-aea9-6b4781f61d3c",
   "metadata": {},
   "outputs": [],
   "source": [
    "# it appears that where these purchases took place was not record, but there is purchase category data. \n",
    "# only affects 6 customers\n",
    "# Since the spend from these customers is very low, I am going to remove them from my analysis as they are not top customers\n",
    "CustomerCombined = CustomerCombined.loc[CustomerCombined['TotalPurchases'] != 0]"
   ]
  },
  {
   "cell_type": "code",
   "execution_count": 20,
   "id": "60f79195-1161-44dc-aa1d-07f16acaa21d",
   "metadata": {},
   "outputs": [
    {
     "data": {
      "text/plain": [
       "ID                      2210\n",
       "Year_Birth                59\n",
       "Marital_Status             5\n",
       "Income                  1968\n",
       "Kidhome                    3\n",
       "Teenhome                   3\n",
       "Dt_Customer              662\n",
       "NumDealsPurchases         15\n",
       "NumWebPurchases           15\n",
       "NumCatalogPurchases       14\n",
       "NumStorePurchases         14\n",
       "NumWebVisitsMonth         15\n",
       "MntWines                 776\n",
       "MntFruits                158\n",
       "MntMeatProducts          554\n",
       "MntFishProducts          182\n",
       "MntSweetProducts         176\n",
       "MntGoldProds             212\n",
       "AcceptedCmp1               2\n",
       "AcceptedCmp2               2\n",
       "AcceptedCmp3               2\n",
       "AcceptedCmp4               2\n",
       "AcceptedCmp5               2\n",
       "AcceptedCmp6               2\n",
       "TotalChildren              4\n",
       "TotalSpend              1045\n",
       "TotalPurchases            32\n",
       "TotalOffersAccepted        6\n",
       "Age                       59\n",
       "WebsiteVisitQuartile       4\n",
       "dtype: int64"
      ]
     },
     "execution_count": 20,
     "metadata": {},
     "output_type": "execute_result"
    }
   ],
   "source": [
    "# how many unique values does each column have? \n",
    "CustomerCombined.nunique()"
   ]
  },
  {
   "cell_type": "code",
   "execution_count": 21,
   "id": "c061ce42-cdce-4d84-9b58-bbbfd83131c1",
   "metadata": {},
   "outputs": [],
   "source": [
    "# Breaking up continuous and categorical variables into separate dataframes to do additional exploration\n",
    "# After looking at the numerical summary stats above and the counts of unique variables, I am going to plot some of my numerical values as categories to see the bar plot views\n",
    "CustomerContinuous = CustomerCombined[['Year_Birth','Income','NumDealsPurchases', 'NumWebPurchases','NumCatalogPurchases', 'NumStorePurchases','NumWebVisitsMonth', 'MntWines', 'MntFruits', 'MntMeatProducts', 'MntFishProducts','MntSweetProducts', 'MntGoldProds','TotalSpend', 'TotalPurchases','Age']]\n",
    "CustomerCategorical = CustomerCombined[['Marital_Status','Kidhome', 'Teenhome', 'NumDealsPurchases', 'NumWebPurchases','NumCatalogPurchases', 'NumStorePurchases','AcceptedCmp1', 'AcceptedCmp2', 'AcceptedCmp3', 'AcceptedCmp4', 'AcceptedCmp5', 'AcceptedCmp6', 'TotalChildren','TotalOffersAccepted', 'WebsiteVisitQuartile']]\n",
    "CustomerCategorical = CustomerCategorical.astype(str)"
   ]
  },
  {
   "cell_type": "markdown",
   "id": "4162a84d-d8ec-44db-a58c-c51c28b57e40",
   "metadata": {},
   "source": [
    "#### Part 2: Continuous Variables"
   ]
  },
  {
   "cell_type": "code",
   "execution_count": 22,
   "id": "d809775d-4170-47c8-9853-797c9f6ceaac",
   "metadata": {},
   "outputs": [
    {
     "data": {
      "text/plain": [
       "array([[<AxesSubplot:title={'center':'Year_Birth'}>,\n",
       "        <AxesSubplot:title={'center':'Income'}>,\n",
       "        <AxesSubplot:title={'center':'NumDealsPurchases'}>,\n",
       "        <AxesSubplot:title={'center':'NumWebPurchases'}>],\n",
       "       [<AxesSubplot:title={'center':'NumCatalogPurchases'}>,\n",
       "        <AxesSubplot:title={'center':'NumStorePurchases'}>,\n",
       "        <AxesSubplot:title={'center':'NumWebVisitsMonth'}>,\n",
       "        <AxesSubplot:title={'center':'MntWines'}>],\n",
       "       [<AxesSubplot:title={'center':'MntFruits'}>,\n",
       "        <AxesSubplot:title={'center':'MntMeatProducts'}>,\n",
       "        <AxesSubplot:title={'center':'MntFishProducts'}>,\n",
       "        <AxesSubplot:title={'center':'MntSweetProducts'}>],\n",
       "       [<AxesSubplot:title={'center':'MntGoldProds'}>,\n",
       "        <AxesSubplot:title={'center':'TotalSpend'}>,\n",
       "        <AxesSubplot:title={'center':'TotalPurchases'}>,\n",
       "        <AxesSubplot:title={'center':'Age'}>]], dtype=object)"
      ]
     },
     "execution_count": 22,
     "metadata": {},
     "output_type": "execute_result"
    },
    {
     "data": {
      "image/png": "[encoded data removed]",
      "text/plain": [
       "<Figure size 1440x1080 with 16 Axes>"
      ]
     },
     "metadata": {
      "needs_background": "light"
     },
     "output_type": "display_data"
    }
   ],
   "source": [
    "CustomerContinuous.hist(figsize=(20,15))"
   ]
  },
  {
   "cell_type": "code",
   "execution_count": 23,
   "id": "93bbf2d0-e7ab-41be-9617-e7248e72c17b",
   "metadata": {},
   "outputs": [],
   "source": [
    "# look closer at Year_Birth/Age - doesn't make sense to have someone born before 1900/over 100 years old\n",
    "# look closer at Income - histogram looks like there is an outlier around 600,000\n",
    "# rest of histograms look good/make sense"
   ]
  },
  {
   "cell_type": "code",
   "execution_count": 24,
   "id": "9962b809-95c4-4260-ad79-938060f0d57f",
   "metadata": {},
   "outputs": [
    {
     "data": {
      "text/plain": [
       "Text(0.5, 1.0, 'Boxplot of Age')"
      ]
     },
     "execution_count": 24,
     "metadata": {},
     "output_type": "execute_result"
    },
    {
     "data": {
      "image/png": "[encoded data removed]",
      "text/plain": [
       "<Figure size 432x288 with 1 Axes>"
      ]
     },
     "metadata": {
      "needs_background": "light"
     },
     "output_type": "display_data"
    }
   ],
   "source": [
    "# box plot of age\n",
    "sns.boxplot(x=CustomerCombined['Age'])\n",
    "plt.title('Boxplot of Age')"
   ]
  },
  {
   "cell_type": "code",
   "execution_count": 25,
   "id": "e48a486f-4355-4654-beab-beee81910f0e",
   "metadata": {},
   "outputs": [
    {
     "data": {
      "text/html": [
       "<div>\n",
       "<style scoped>\n",
       "    .dataframe tbody tr th:only-of-type {\n",
       "        vertical-align: middle;\n",
       "    }\n",
       "\n",
       "    .dataframe tbody tr th {\n",
       "        vertical-align: top;\n",
       "    }\n",
       "\n",
       "    .dataframe thead th {\n",
       "        text-align: right;\n",
       "    }\n",
       "</style>\n",
       "<table border=\"1\" class=\"dataframe\">\n",
       "  <thead>\n",
       "    <tr style=\"text-align: right;\">\n",
       "      <th></th>\n",
       "      <th>ID</th>\n",
       "      <th>Year_Birth</th>\n",
       "      <th>Age</th>\n",
       "      <th>TotalSpend</th>\n",
       "      <th>TotalPurchases</th>\n",
       "      <th>TotalOffersAccepted</th>\n",
       "    </tr>\n",
       "  </thead>\n",
       "  <tbody>\n",
       "    <tr>\n",
       "      <th>513</th>\n",
       "      <td>11004</td>\n",
       "      <td>1893</td>\n",
       "      <td>130</td>\n",
       "      <td>22</td>\n",
       "      <td>3</td>\n",
       "      <td>0</td>\n",
       "    </tr>\n",
       "    <tr>\n",
       "      <th>827</th>\n",
       "      <td>1150</td>\n",
       "      <td>1899</td>\n",
       "      <td>124</td>\n",
       "      <td>1853</td>\n",
       "      <td>14</td>\n",
       "      <td>1</td>\n",
       "    </tr>\n",
       "    <tr>\n",
       "      <th>1740</th>\n",
       "      <td>6932</td>\n",
       "      <td>1941</td>\n",
       "      <td>82</td>\n",
       "      <td>2119</td>\n",
       "      <td>22</td>\n",
       "      <td>1</td>\n",
       "    </tr>\n",
       "    <tr>\n",
       "      <th>2171</th>\n",
       "      <td>6663</td>\n",
       "      <td>1940</td>\n",
       "      <td>83</td>\n",
       "      <td>157</td>\n",
       "      <td>8</td>\n",
       "      <td>0</td>\n",
       "    </tr>\n",
       "    <tr>\n",
       "      <th>2233</th>\n",
       "      <td>7829</td>\n",
       "      <td>1900</td>\n",
       "      <td>123</td>\n",
       "      <td>65</td>\n",
       "      <td>5</td>\n",
       "      <td>0</td>\n",
       "    </tr>\n",
       "  </tbody>\n",
       "</table>\n",
       "</div>"
      ],
      "text/plain": [
       "         ID  Year_Birth  Age  TotalSpend  TotalPurchases  TotalOffersAccepted\n",
       "513   11004        1893  130          22               3                    0\n",
       "827    1150        1899  124        1853              14                    1\n",
       "1740   6932        1941   82        2119              22                    1\n",
       "2171   6663        1940   83         157               8                    0\n",
       "2233   7829        1900  123          65               5                    0"
      ]
     },
     "execution_count": 25,
     "metadata": {},
     "output_type": "execute_result"
    }
   ],
   "source": [
    "age1 = CustomerCombined.loc[CustomerCombined['Age'] > 80]\n",
    "age1[['ID', 'Year_Birth', 'Age', 'TotalSpend', 'TotalPurchases', 'TotalOffersAccepted']]"
   ]
  },
  {
   "cell_type": "code",
   "execution_count": 26,
   "id": "b925c810-ec48-4174-8be0-b42d031eac42",
   "metadata": {},
   "outputs": [],
   "source": [
    "# dropping customers over 100 years old for analysis because those don't make sense\n",
    "# potential that those in the 1800s are typos and meant to be in the 1900s, but this is a small subset of our data so not going to have major affect on analysis \n",
    "CustomerCombined = CustomerCombined.loc[CustomerCombined['Age'] < 100]"
   ]
  },
  {
   "cell_type": "code",
   "execution_count": 27,
   "id": "b34b8e62-210e-4bb8-b9a5-b8bfb0a8f7aa",
   "metadata": {},
   "outputs": [
    {
     "data": {
      "text/plain": [
       "50s    638\n",
       "40s    583\n",
       "60s    466\n",
       "70s    255\n",
       "30s    247\n",
       "20s     10\n",
       "80s      8\n",
       "Name: Age, dtype: int64"
      ]
     },
     "execution_count": 27,
     "metadata": {},
     "output_type": "execute_result"
    }
   ],
   "source": [
    "# creating age buckets\n",
    "Ages = CustomerCombined['Age']\n",
    "Bins = [20, 30, 40, 50, 60, 70, 80, 90]\n",
    "BinNames = ['20s', '30s', '40s', '50s', '60s', '70s', '80s']\n",
    "AgeBin = pd.cut(Ages, Bins, labels=BinNames, right=False)\n",
    "CustomerCombined['AgeBin'] = pd.cut(x=CustomerCombined['Age'], bins=Bins, labels=BinNames, right=False)\n",
    "pd.value_counts(AgeBin)"
   ]
  },
  {
   "cell_type": "code",
   "execution_count": 28,
   "id": "367592bb-9b84-4c97-bc00-45c7fd595cfb",
   "metadata": {},
   "outputs": [
    {
     "data": {
      "text/plain": [
       "Text(0.5, 1.0, 'Boxplot of Income')"
      ]
     },
     "execution_count": 28,
     "metadata": {},
     "output_type": "execute_result"
    },
    {
     "data": {
      "image/png": "[encoded data removed]",
      "text/plain": [
       "<Figure size 432x288 with 1 Axes>"
      ]
     },
     "metadata": {
      "needs_background": "light"
     },
     "output_type": "display_data"
    }
   ],
   "source": [
    "# income\n",
    "sns.boxplot(x=CustomerCombined['Income'])\n",
    "plt.title('Boxplot of Income')"
   ]
  },
  {
   "cell_type": "code",
   "execution_count": 29,
   "id": "11496f11-9c06-40a0-b159-3091efef60da",
   "metadata": {},
   "outputs": [
    {
     "data": {
      "text/html": [
       "<div>\n",
       "<style scoped>\n",
       "    .dataframe tbody tr th:only-of-type {\n",
       "        vertical-align: middle;\n",
       "    }\n",
       "\n",
       "    .dataframe tbody tr th {\n",
       "        vertical-align: top;\n",
       "    }\n",
       "\n",
       "    .dataframe thead th {\n",
       "        text-align: right;\n",
       "    }\n",
       "</style>\n",
       "<table border=\"1\" class=\"dataframe\">\n",
       "  <thead>\n",
       "    <tr style=\"text-align: right;\">\n",
       "      <th></th>\n",
       "      <th>ID</th>\n",
       "      <th>Year_Birth</th>\n",
       "      <th>Income</th>\n",
       "      <th>TotalSpend</th>\n",
       "      <th>TotalPurchases</th>\n",
       "      <th>TotalOffersAccepted</th>\n",
       "    </tr>\n",
       "  </thead>\n",
       "  <tbody>\n",
       "    <tr>\n",
       "      <th>527</th>\n",
       "      <td>9432</td>\n",
       "      <td>1977</td>\n",
       "      <td>666666.00</td>\n",
       "      <td>62</td>\n",
       "      <td>7</td>\n",
       "      <td>0</td>\n",
       "    </tr>\n",
       "    <tr>\n",
       "      <th>731</th>\n",
       "      <td>1503</td>\n",
       "      <td>1976</td>\n",
       "      <td>162397.00</td>\n",
       "      <td>107</td>\n",
       "      <td>1</td>\n",
       "      <td>0</td>\n",
       "    </tr>\n",
       "    <tr>\n",
       "      <th>497</th>\n",
       "      <td>1501</td>\n",
       "      <td>1982</td>\n",
       "      <td>160803.00</td>\n",
       "      <td>1717</td>\n",
       "      <td>29</td>\n",
       "      <td>0</td>\n",
       "    </tr>\n",
       "    <tr>\n",
       "      <th>853</th>\n",
       "      <td>5336</td>\n",
       "      <td>1971</td>\n",
       "      <td>157733.00</td>\n",
       "      <td>59</td>\n",
       "      <td>2</td>\n",
       "      <td>0</td>\n",
       "    </tr>\n",
       "    <tr>\n",
       "      <th>2204</th>\n",
       "      <td>8475</td>\n",
       "      <td>1973</td>\n",
       "      <td>157243.00</td>\n",
       "      <td>1608</td>\n",
       "      <td>22</td>\n",
       "      <td>0</td>\n",
       "    </tr>\n",
       "    <tr>\n",
       "      <th>325</th>\n",
       "      <td>4931</td>\n",
       "      <td>1977</td>\n",
       "      <td>157146.00</td>\n",
       "      <td>1730</td>\n",
       "      <td>28</td>\n",
       "      <td>0</td>\n",
       "    </tr>\n",
       "    <tr>\n",
       "      <th>210</th>\n",
       "      <td>4619</td>\n",
       "      <td>1945</td>\n",
       "      <td>113734.00</td>\n",
       "      <td>277</td>\n",
       "      <td>27</td>\n",
       "      <td>0</td>\n",
       "    </tr>\n",
       "    <tr>\n",
       "      <th>832</th>\n",
       "      <td>4611</td>\n",
       "      <td>1970</td>\n",
       "      <td>105471.00</td>\n",
       "      <td>1724</td>\n",
       "      <td>30</td>\n",
       "      <td>3</td>\n",
       "    </tr>\n",
       "    <tr>\n",
       "      <th>142</th>\n",
       "      <td>10089</td>\n",
       "      <td>1974</td>\n",
       "      <td>102692.00</td>\n",
       "      <td>1112</td>\n",
       "      <td>28</td>\n",
       "      <td>5</td>\n",
       "    </tr>\n",
       "    <tr>\n",
       "      <th>1244</th>\n",
       "      <td>2798</td>\n",
       "      <td>1977</td>\n",
       "      <td>102160.00</td>\n",
       "      <td>1240</td>\n",
       "      <td>26</td>\n",
       "      <td>4</td>\n",
       "    </tr>\n",
       "    <tr>\n",
       "      <th>1564</th>\n",
       "      <td>7215</td>\n",
       "      <td>1983</td>\n",
       "      <td>101970.00</td>\n",
       "      <td>1135</td>\n",
       "      <td>27</td>\n",
       "      <td>4</td>\n",
       "    </tr>\n",
       "  </tbody>\n",
       "</table>\n",
       "</div>"
      ],
      "text/plain": [
       "         ID  Year_Birth    Income  TotalSpend  TotalPurchases  \\\n",
       "527    9432        1977 666666.00          62               7   \n",
       "731    1503        1976 162397.00         107               1   \n",
       "497    1501        1982 160803.00        1717              29   \n",
       "853    5336        1971 157733.00          59               2   \n",
       "2204   8475        1973 157243.00        1608              22   \n",
       "325    4931        1977 157146.00        1730              28   \n",
       "210    4619        1945 113734.00         277              27   \n",
       "832    4611        1970 105471.00        1724              30   \n",
       "142   10089        1974 102692.00        1112              28   \n",
       "1244   2798        1977 102160.00        1240              26   \n",
       "1564   7215        1983 101970.00        1135              27   \n",
       "\n",
       "      TotalOffersAccepted  \n",
       "527                     0  \n",
       "731                     0  \n",
       "497                     0  \n",
       "853                     0  \n",
       "2204                    0  \n",
       "325                     0  \n",
       "210                     0  \n",
       "832                     3  \n",
       "142                     5  \n",
       "1244                    4  \n",
       "1564                    4  "
      ]
     },
     "execution_count": 29,
     "metadata": {},
     "output_type": "execute_result"
    }
   ],
   "source": [
    "income1 = CustomerCombined.loc[CustomerCombined['Income'] > 100000]\n",
    "income1[['ID', 'Year_Birth', 'Income', 'TotalSpend', 'TotalPurchases', 'TotalOffersAccepted']].sort_values(by=['Income'],ascending=False)"
   ]
  },
  {
   "cell_type": "code",
   "execution_count": 30,
   "id": "6ef68ec3-c6ea-4a07-b1e8-f72bcb588b95",
   "metadata": {},
   "outputs": [],
   "source": [
    "# the $666,666 income seems incorrect so removing this from my dataset\n",
    "CustomerCombined = CustomerCombined.loc[CustomerCombined['Income'] < 200000]"
   ]
  },
  {
   "cell_type": "markdown",
   "id": "c1148e98-cf56-4f96-bd4b-fbf9b694ac13",
   "metadata": {},
   "source": [
    "#### Part 3: Categorical Variables"
   ]
  },
  {
   "cell_type": "code",
   "execution_count": 31,
   "id": "d53e4781-d4d8-4cbf-8838-62da94876645",
   "metadata": {},
   "outputs": [
    {
     "data": {
      "text/html": [
       "<div>\n",
       "<style scoped>\n",
       "    .dataframe tbody tr th:only-of-type {\n",
       "        vertical-align: middle;\n",
       "    }\n",
       "\n",
       "    .dataframe tbody tr th {\n",
       "        vertical-align: top;\n",
       "    }\n",
       "\n",
       "    .dataframe thead th {\n",
       "        text-align: right;\n",
       "    }\n",
       "</style>\n",
       "<table border=\"1\" class=\"dataframe\">\n",
       "  <thead>\n",
       "    <tr style=\"text-align: right;\">\n",
       "      <th></th>\n",
       "      <th>Marital_Status</th>\n",
       "      <th>Kidhome</th>\n",
       "      <th>Teenhome</th>\n",
       "      <th>NumDealsPurchases</th>\n",
       "      <th>NumWebPurchases</th>\n",
       "      <th>NumCatalogPurchases</th>\n",
       "      <th>NumStorePurchases</th>\n",
       "      <th>AcceptedCmp1</th>\n",
       "      <th>AcceptedCmp2</th>\n",
       "      <th>AcceptedCmp3</th>\n",
       "      <th>AcceptedCmp4</th>\n",
       "      <th>AcceptedCmp5</th>\n",
       "      <th>AcceptedCmp6</th>\n",
       "      <th>TotalChildren</th>\n",
       "      <th>TotalOffersAccepted</th>\n",
       "      <th>WebsiteVisitQuartile</th>\n",
       "    </tr>\n",
       "  </thead>\n",
       "  <tbody>\n",
       "    <tr>\n",
       "      <th>count</th>\n",
       "      <td>2210</td>\n",
       "      <td>2210</td>\n",
       "      <td>2210</td>\n",
       "      <td>2210</td>\n",
       "      <td>2210</td>\n",
       "      <td>2210</td>\n",
       "      <td>2210</td>\n",
       "      <td>2210</td>\n",
       "      <td>2210</td>\n",
       "      <td>2210</td>\n",
       "      <td>2210</td>\n",
       "      <td>2210</td>\n",
       "      <td>2210</td>\n",
       "      <td>2210</td>\n",
       "      <td>2210</td>\n",
       "      <td>2210</td>\n",
       "    </tr>\n",
       "    <tr>\n",
       "      <th>unique</th>\n",
       "      <td>5</td>\n",
       "      <td>3</td>\n",
       "      <td>3</td>\n",
       "      <td>15</td>\n",
       "      <td>15</td>\n",
       "      <td>14</td>\n",
       "      <td>14</td>\n",
       "      <td>2</td>\n",
       "      <td>2</td>\n",
       "      <td>2</td>\n",
       "      <td>2</td>\n",
       "      <td>2</td>\n",
       "      <td>2</td>\n",
       "      <td>4</td>\n",
       "      <td>6</td>\n",
       "      <td>4</td>\n",
       "    </tr>\n",
       "    <tr>\n",
       "      <th>top</th>\n",
       "      <td>Married</td>\n",
       "      <td>0</td>\n",
       "      <td>0</td>\n",
       "      <td>1</td>\n",
       "      <td>2</td>\n",
       "      <td>0</td>\n",
       "      <td>3</td>\n",
       "      <td>False</td>\n",
       "      <td>False</td>\n",
       "      <td>False</td>\n",
       "      <td>False</td>\n",
       "      <td>False</td>\n",
       "      <td>False</td>\n",
       "      <td>1</td>\n",
       "      <td>0</td>\n",
       "      <td>Second Quartile</td>\n",
       "    </tr>\n",
       "    <tr>\n",
       "      <th>freq</th>\n",
       "      <td>855</td>\n",
       "      <td>1279</td>\n",
       "      <td>1142</td>\n",
       "      <td>960</td>\n",
       "      <td>368</td>\n",
       "      <td>570</td>\n",
       "      <td>484</td>\n",
       "      <td>2068</td>\n",
       "      <td>2180</td>\n",
       "      <td>2047</td>\n",
       "      <td>2046</td>\n",
       "      <td>2048</td>\n",
       "      <td>1877</td>\n",
       "      <td>1116</td>\n",
       "      <td>1605</td>\n",
       "      <td>831</td>\n",
       "    </tr>\n",
       "  </tbody>\n",
       "</table>\n",
       "</div>"
      ],
      "text/plain": [
       "       Marital_Status Kidhome Teenhome NumDealsPurchases NumWebPurchases  \\\n",
       "count            2210    2210     2210              2210            2210   \n",
       "unique              5       3        3                15              15   \n",
       "top           Married       0        0                 1               2   \n",
       "freq              855    1279     1142               960             368   \n",
       "\n",
       "       NumCatalogPurchases NumStorePurchases AcceptedCmp1 AcceptedCmp2  \\\n",
       "count                 2210              2210         2210         2210   \n",
       "unique                  14                14            2            2   \n",
       "top                      0                 3        False        False   \n",
       "freq                   570               484         2068         2180   \n",
       "\n",
       "       AcceptedCmp3 AcceptedCmp4 AcceptedCmp5 AcceptedCmp6 TotalChildren  \\\n",
       "count          2210         2210         2210         2210          2210   \n",
       "unique            2            2            2            2             4   \n",
       "top           False        False        False        False             1   \n",
       "freq           2047         2046         2048         1877          1116   \n",
       "\n",
       "       TotalOffersAccepted WebsiteVisitQuartile  \n",
       "count                 2210                 2210  \n",
       "unique                   6                    4  \n",
       "top                      0      Second Quartile  \n",
       "freq                  1605                  831  "
      ]
     },
     "execution_count": 31,
     "metadata": {},
     "output_type": "execute_result"
    }
   ],
   "source": [
    "CustomerCategorical.describe()"
   ]
  },
  {
   "cell_type": "code",
   "execution_count": 32,
   "id": "b63ca0a7-bdc9-4b25-bca5-f3190ded9343",
   "metadata": {},
   "outputs": [
    {
     "data": {
      "image/png": "[encoded data removed]",
      "text/plain": [
       "<Figure size 1440x1080 with 16 Axes>"
      ]
     },
     "metadata": {
      "needs_background": "light"
     },
     "output_type": "display_data"
    }
   ],
   "source": [
    "# bar chart of each variable\n",
    "columns = CustomerCategorical.columns\n",
    "ncols = len(columns)\n",
    "rows = int(ncols/4)\n",
    "\n",
    "fig, ax = plt.subplots(figsize=(20,15), nrows = rows, ncols = 4)\n",
    "ax = ax.flatten()\n",
    "for i, column in enumerate(columns):\n",
    "    sns.countplot(x=column, data=CustomerCategorical, ax=ax[i], palette='muted')\n"
   ]
  },
  {
   "cell_type": "code",
   "execution_count": 34,
   "id": "fe95ebe7-319d-4baa-a4c6-8c5ddaea0c85",
   "metadata": {},
   "outputs": [],
   "source": [
    "# now that i am done exploring my variables and cleaning my data, saving a clean version of the data\n",
    "CustomerCombined.to_csv('CustomerCombinedFinal.csv')"
   ]
  },
  {
   "cell_type": "markdown",
   "id": "e7583991-c7c8-4f24-b57f-5e993ad29326",
   "metadata": {
    "tags": []
   },
   "source": [
    "#### Part 4: Variable Comparison"
   ]
  },
  {
   "cell_type": "markdown",
   "id": "de5bf2f5-26ad-45ea-8f6b-d5a75ced83f5",
   "metadata": {},
   "source": [
    "Is there a strong relationship between income and total spend? Do those with more income, spend more? "
   ]
  },
  {
   "cell_type": "code",
   "execution_count": 34,
   "id": "2b971a48-8553-4513-b637-2effd1c3db84",
   "metadata": {},
   "outputs": [
    {
     "data": {
      "image/png": "[encoded data removed]",
      "text/plain": [
       "<Figure size 432x288 with 1 Axes>"
      ]
     },
     "metadata": {
      "needs_background": "light"
     },
     "output_type": "display_data"
    }
   ],
   "source": [
    "plt.scatter(CustomerCombined.TotalSpend,CustomerCombined.Income)\n",
    "plt.title('Total Spend vs. Income')\n",
    "plt.xlabel('Total Spend')\n",
    "plt.ylabel('Income')\n",
    "plt.show()"
   ]
  },
  {
   "cell_type": "code",
   "execution_count": 35,
   "id": "68cf56d3-26ad-449a-916f-482004ea7fa6",
   "metadata": {},
   "outputs": [
    {
     "data": {
      "text/plain": [
       "0.8063018244829001"
      ]
     },
     "execution_count": 35,
     "metadata": {},
     "output_type": "execute_result"
    }
   ],
   "source": [
    "CustomerCombined.Income.corr(CustomerCombined.TotalSpend)"
   ]
  },
  {
   "cell_type": "markdown",
   "id": "cf1fced4-7dee-4c47-8976-fb71c3fea466",
   "metadata": {},
   "source": [
    "Income and TotalSpend do have a strong relationship, as demonstrated by the scatterplot and the high correlation coefficient"
   ]
  },
  {
   "cell_type": "markdown",
   "id": "410587b9-2940-4d21-b5ee-9aa79e070131",
   "metadata": {},
   "source": [
    "Is there a relationship between income and campaign coupon usage? "
   ]
  },
  {
   "cell_type": "code",
   "execution_count": 36,
   "id": "417a7152-c935-4b81-ae4b-dd891415db19",
   "metadata": {},
   "outputs": [
    {
     "data": {
      "image/png": "[encoded data removed]",
      "text/plain": [
       "<Figure size 432x288 with 1 Axes>"
      ]
     },
     "metadata": {
      "needs_background": "light"
     },
     "output_type": "display_data"
    }
   ],
   "source": [
    "plt.scatter(CustomerCombined.TotalOffersAccepted,CustomerCombined.Income)\n",
    "plt.title('Total Offers Accepted vs. Income')\n",
    "plt.xlabel('Total Offers Accepted')\n",
    "plt.ylabel('Income')\n",
    "plt.show()"
   ]
  },
  {
   "cell_type": "code",
   "execution_count": 37,
   "id": "ae97e1c6-0af5-4cf8-ac6d-ab93edf9aace",
   "metadata": {},
   "outputs": [
    {
     "data": {
      "text/plain": [
       "0.3486886842385556"
      ]
     },
     "execution_count": 37,
     "metadata": {},
     "output_type": "execute_result"
    }
   ],
   "source": [
    "CustomerCombined.Income.corr(CustomerCombined.TotalOffersAccepted)"
   ]
  },
  {
   "cell_type": "markdown",
   "id": "117f1857-63f8-42ce-83db-50392a4f25e5",
   "metadata": {},
   "source": [
    "The scatter plot and correlation coefficient show that there is a slightly positive relationship between Total Offers Accepted and Income. This is somewhat surprising as one may think that those with lower incomes would be more likely to redeem an offer. "
   ]
  },
  {
   "cell_type": "markdown",
   "id": "83867c02-de77-4da2-97e5-a0cce6f38527",
   "metadata": {},
   "source": [
    "#### Part 5: Research Questions\n",
    "Now that we have taken the time to understand all our variables and investigated some of the relationships between them, it is time to look at our research questions!"
   ]
  },
  {
   "cell_type": "markdown",
   "id": "151f0d31-d167-44b4-9b3a-b55df06734b9",
   "metadata": {},
   "source": [
    "##### Question 1\n",
    "Do those that have children spend more than those that don't? Does it vary based on if they have kids or teens?"
   ]
  },
  {
   "cell_type": "code",
   "execution_count": 38,
   "id": "99c7e951-9b37-4173-954b-e90c0994ab91",
   "metadata": {},
   "outputs": [
    {
     "data": {
      "text/plain": [
       "<AxesSubplot:xlabel='TotalChildren', ylabel='TotalSpend'>"
      ]
     },
     "execution_count": 38,
     "metadata": {},
     "output_type": "execute_result"
    },
    {
     "data": {
      "image/png": "[encoded data removed]",
      "text/plain": [
       "<Figure size 432x288 with 1 Axes>"
      ]
     },
     "metadata": {
      "needs_background": "light"
     },
     "output_type": "display_data"
    }
   ],
   "source": [
    "sns.boxplot(x='TotalChildren',y='TotalSpend',data=CustomerCombined, palette='muted')"
   ]
  },
  {
   "cell_type": "markdown",
   "id": "1b434c0a-4ab1-435c-9af2-c8cbdf019f1e",
   "metadata": {},
   "source": [
    "It actually appears that those who have children spend less. For those with 0 children, the mean is above the 75% quartile line for all children counts. While this is surprising since those with no kids are probably feeding less people, these people may also buy higher priced items since they are not feeding any children. <br> <br>\n",
    "Does this change at all if you factor in wether the children are kids or teens?"
   ]
  },
  {
   "cell_type": "code",
   "execution_count": 39,
   "id": "8e086689-961d-471a-b6a1-2080147a5f73",
   "metadata": {},
   "outputs": [
    {
     "data": {
      "text/plain": [
       "<AxesSubplot:xlabel='Teenhome', ylabel='TotalSpend'>"
      ]
     },
     "execution_count": 39,
     "metadata": {},
     "output_type": "execute_result"
    },
    {
     "data": {
      "image/png": "[encoded data removed]",
      "text/plain": [
       "<Figure size 864x504 with 2 Axes>"
      ]
     },
     "metadata": {
      "needs_background": "light"
     },
     "output_type": "display_data"
    }
   ],
   "source": [
    "fig, ax = plt.subplots(figsize=(12,7), nrows = 1, ncols = 2)\n",
    "ax = ax.flatten()\n",
    "sns.boxplot(x='Kidhome',y='TotalSpend',data=CustomerCombined, ax=ax[0], palette='muted')\n",
    "sns.boxplot(x='Teenhome',y='TotalSpend',data=CustomerCombined, ax=ax[1], palette='muted')"
   ]
  },
  {
   "cell_type": "markdown",
   "id": "70bb952c-8495-4731-a777-65d102eac6be",
   "metadata": {},
   "source": [
    "When looking at it broken down by kid vs teen, the box plots show that customers who have kids at home typically spend less than those without kids and those with teenagers. This makes sense as kids probably eat less than teens."
   ]
  },
  {
   "cell_type": "markdown",
   "id": "8b6b5f8e-b58f-442d-a5bc-13f1f1083070",
   "metadata": {},
   "source": [
    "Conclusion: Overall, customers without children spend more than those with children. But when you break it down by those who have kids vs those who have teens, customers with kids spend much less than those with no children and those with teens. When looking at both kids or teens, customers spend very similarily regardless of if they have 1 or 2 kids/teens. Customers who have teens have a median spend that is very similar to customers without children, but the range of spends is much large for customers with no children so their spend can get higher. "
   ]
  },
  {
   "cell_type": "markdown",
   "id": "fdf31597-1631-4395-87ef-d1c33d3feda9",
   "metadata": {},
   "source": [
    "##### Question 2\n",
    "Do those who visit the website more order online more? Do they spend more in general?"
   ]
  },
  {
   "cell_type": "code",
   "execution_count": 40,
   "id": "9df2af4a-ed1f-4563-897d-4faead968ade",
   "metadata": {},
   "outputs": [
    {
     "data": {
      "text/plain": [
       "<AxesSubplot:xlabel='NumWebVisitsMonth', ylabel='NumWebPurchases'>"
      ]
     },
     "execution_count": 40,
     "metadata": {},
     "output_type": "execute_result"
    },
    {
     "data": {
      "image/png": "[encoded data removed]",
      "text/plain": [
       "<Figure size 432x288 with 1 Axes>"
      ]
     },
     "metadata": {
      "needs_background": "light"
     },
     "output_type": "display_data"
    }
   ],
   "source": [
    "sns.scatterplot(x='NumWebVisitsMonth', y='NumWebPurchases', data=CustomerCombined)"
   ]
  },
  {
   "cell_type": "code",
   "execution_count": 41,
   "id": "c1752145-a26e-4059-9e2d-64d584547626",
   "metadata": {},
   "outputs": [
    {
     "name": "stdout",
     "output_type": "stream",
     "text": [
      "The correlation coefficient for Number of Web Purchases and Number of Web Visits per Month is -0.0430\n"
     ]
    }
   ],
   "source": [
    "WebCorrelation = CustomerCombined.NumWebPurchases.corr(CustomerCombined.NumWebVisitsMonth)\n",
    "print(f'The correlation coefficient for Number of Web Purchases and Number of Web Visits per Month is {WebCorrelation:.4f}')"
   ]
  },
  {
   "cell_type": "markdown",
   "id": "e04fef31-ef7a-46af-a226-4de11778b6a3",
   "metadata": {},
   "source": [
    "There does not seem to be a correlation between visiting the website and number of web purchases. <br> Let's look at if there is a relationship between TotalSpend and Website Visits, as maybe customers are browsing the site before going to the store?"
   ]
  },
  {
   "cell_type": "code",
   "execution_count": 42,
   "id": "108e7940-6f07-4514-a4cb-a27cce7f9bc4",
   "metadata": {},
   "outputs": [
    {
     "data": {
      "text/plain": [
       "<AxesSubplot:xlabel='NumWebVisitsMonth', ylabel='TotalSpend'>"
      ]
     },
     "execution_count": 42,
     "metadata": {},
     "output_type": "execute_result"
    },
    {
     "data": {
      "image/png": "[encoded data removed]",
      "text/plain": [
       "<Figure size 432x288 with 1 Axes>"
      ]
     },
     "metadata": {
      "needs_background": "light"
     },
     "output_type": "display_data"
    }
   ],
   "source": [
    "sns.scatterplot(x='NumWebVisitsMonth', y='TotalSpend', data=CustomerCombined)"
   ]
  },
  {
   "cell_type": "code",
   "execution_count": 43,
   "id": "1efc91ba-2a6d-4f79-9537-dcddad53fe3f",
   "metadata": {},
   "outputs": [
    {
     "name": "stdout",
     "output_type": "stream",
     "text": [
      "The correlation coefficient for Number of Web Visits per Month and Total Spend is -0.0430\n"
     ]
    }
   ],
   "source": [
    "WebSpendCorrelation = CustomerCombined.NumWebPurchases.corr(CustomerCombined.NumWebVisitsMonth)\n",
    "print(f'The correlation coefficient for Number of Web Visits per Month and Total Spend is {WebSpendCorrelation:.4f}')"
   ]
  },
  {
   "cell_type": "markdown",
   "id": "a2278959-4fd5-486d-abdb-277eb3720e9b",
   "metadata": {},
   "source": [
    "There also does not seem to be a correlation between website visits per month and total spend."
   ]
  },
  {
   "cell_type": "markdown",
   "id": "f7529600-b03a-4d32-9ce8-6d203026c388",
   "metadata": {},
   "source": [
    "Conculsion: Website visits per month does not have a strong correlation with either Number of Web Purchases or Total Spend."
   ]
  },
  {
   "cell_type": "markdown",
   "id": "b8949cb1-8ef6-44b1-b15c-84f2627b48ba",
   "metadata": {},
   "source": [
    "##### Question 3\n",
    "How does Wine spend vary by marital status? by number of children?"
   ]
  },
  {
   "cell_type": "code",
   "execution_count": 44,
   "id": "6408174f-0dcb-4485-b8e9-a466e515856e",
   "metadata": {},
   "outputs": [
    {
     "name": "stdout",
     "output_type": "stream",
     "text": [
      "Mean wine spend by Marital Status\n",
      "Marital_Status\n",
      "Divorced   330.46\n",
      "Married    300.55\n",
      "Single     292.26\n",
      "Together   308.15\n",
      "Widow      367.13\n",
      "Name: MntWines, dtype: float64\n"
     ]
    }
   ],
   "source": [
    "# marital status\n",
    "grouped = CustomerCombined.MntWines.groupby(CustomerCombined.Marital_Status)\n",
    "print('Mean wine spend by Marital Status')\n",
    "print(grouped.mean())"
   ]
  },
  {
   "cell_type": "code",
   "execution_count": 45,
   "id": "7fdca578-6b39-4e09-9d21-09cc0724fbdf",
   "metadata": {},
   "outputs": [
    {
     "data": {
      "image/png": "[encoded data removed]",
      "text/plain": [
       "<Figure size 432x288 with 1 Axes>"
      ]
     },
     "metadata": {
      "needs_background": "light"
     },
     "output_type": "display_data"
    }
   ],
   "source": [
    "sns.boxplot(y='MntWines', data=CustomerCombined, x='Marital_Status', palette='muted')\n",
    "plt.title('Wine Spend variations by Marital Status')\n",
    "plt.show()"
   ]
  },
  {
   "cell_type": "markdown",
   "id": "a99b2d32-9528-4457-98ca-45518a7127a2",
   "metadata": {},
   "source": [
    "There is not much variation on wine spend between the different Marital Status'"
   ]
  },
  {
   "cell_type": "code",
   "execution_count": 46,
   "id": "af5fd0f6-d8a8-475c-8571-cf06c54603ae",
   "metadata": {},
   "outputs": [
    {
     "name": "stdout",
     "output_type": "stream",
     "text": [
      "Mean spend by Number of Children\n",
      "TotalChildren\n",
      "0   490.75\n",
      "1   269.45\n",
      "2   142.48\n",
      "3   161.34\n",
      "Name: MntWines, dtype: float64\n"
     ]
    }
   ],
   "source": [
    "# children\n",
    "grouped = CustomerCombined.MntWines.groupby(CustomerCombined.TotalChildren)\n",
    "print('Mean spend by Number of Children')\n",
    "print(grouped.mean())"
   ]
  },
  {
   "cell_type": "code",
   "execution_count": 47,
   "id": "6ed0cc46-1524-4a61-892a-515f03dffb90",
   "metadata": {},
   "outputs": [
    {
     "data": {
      "image/png": "[encoded data removed]",
      "text/plain": [
       "<Figure size 432x288 with 1 Axes>"
      ]
     },
     "metadata": {
      "needs_background": "light"
     },
     "output_type": "display_data"
    }
   ],
   "source": [
    "sns.boxplot(y='MntWines', data=CustomerCombined, x='TotalChildren', palette='muted')\n",
    "plt.title('Wine Spend variations by Number of Children')\n",
    "plt.show()"
   ]
  },
  {
   "cell_type": "markdown",
   "id": "a65388be-5cbf-402d-a475-4f68bd6dd05f",
   "metadata": {},
   "source": [
    "There is more variation in spend on wine when you break it down by the number of children the customer has. Thoes with no children spend the most on wine. This makes sense as it aligns with our discovery from Q1 that customers with no children are more likely to spend the most. Spend on wine continues to decrease as the number of children increase. The only caveat to this is that the mean spend on wine for customers with 3 children is higher than the mean spend on wine for customers with 2 children, but the 75th percentile line for customers with 3 children is lower than it is for customers with 2 children. This shows that while the mean is slightly higher for customers with 3 children, that the range of spends for 3 children is smaller than the range of spends for 2 children. "
   ]
  },
  {
   "cell_type": "markdown",
   "id": "f0b385dc-4028-4313-9785-04c6c65716ba",
   "metadata": {},
   "source": [
    "How does wine spend vary when factoring in both maritial status and children?"
   ]
  },
  {
   "cell_type": "code",
   "execution_count": 48,
   "id": "55b104ac-8935-43ae-8c53-b9f8c5b83c0f",
   "metadata": {},
   "outputs": [
    {
     "name": "stdout",
     "output_type": "stream",
     "text": [
      "               MntWines                               \n",
      "Marital_Status Divorced Married Single Together  Widow\n",
      "TotalChildren                                         \n",
      "0                469.62  459.22 508.32   527.87 482.73\n",
      "1                349.43  277.44 199.48   263.14 398.27\n",
      "2                157.53  154.46 108.89   141.93 129.88\n",
      "3                 43.00  197.69 120.36   200.27    NaN\n"
     ]
    }
   ],
   "source": [
    "means = CustomerCombined.MntWines.groupby([CustomerCombined.Marital_Status, CustomerCombined.TotalChildren]).mean()\n",
    "df_means = DataFrame(means)\n",
    "df_means = df_means.unstack(level=0)\n",
    "print(df_means)"
   ]
  },
  {
   "cell_type": "code",
   "execution_count": 49,
   "id": "bb625172-ba5a-4eff-a2c6-1444c64fcc4b",
   "metadata": {},
   "outputs": [
    {
     "data": {
      "image/png": "[encoded data removed]",
      "text/plain": [
       "<Figure size 432x288 with 2 Axes>"
      ]
     },
     "metadata": {
      "needs_background": "light"
     },
     "output_type": "display_data"
    }
   ],
   "source": [
    "sns.heatmap(df_means, cmap=\"Blues\")\n",
    "plt.xlabel('Marital Status')\n",
    "plt.ylabel('Number of Children')\n",
    "plt.title('Wine spend by Marital Status & Count of Children')\n",
    "plt.show()"
   ]
  },
  {
   "cell_type": "markdown",
   "id": "6bd05178-3f66-45c0-a755-f3a71f0cf313",
   "metadata": {},
   "source": [
    "Conclusion: This heat map combines our findings from the last two box plots. The dark blues mean more was spent on wine, compared to the light blues. The fact that the top row where number of children is 0 is dark blue across all marital status options reiterates that have 0 children has a larger effect on wine spend that any of our marital status options. Those that are together and have zero kids have the highest spend on wine. A next step could be to factor in age group."
   ]
  },
  {
   "cell_type": "markdown",
   "id": "a800aa1d-c65e-4875-a386-c3b28d416bae",
   "metadata": {},
   "source": [
    "## Conclusion\n",
    "We were able to gain a strong understanding of the range of our data set/variables through data exploration. This set us up well to answer some deeper questions about trends that were taking place in the data. Some discoveries such as the fact that Income is strongly related to total spend were just confirming our asumption, but others such as the lack of relationship between website visits and web purchases were interesting patterns to uncover. <br>\n",
    "\n",
    "With only a limited amount of time, we focused our deeper dive on website visits like previously mentioned, along with how children affected spend. We discovered that customers without kids are more likely to spend more, both overall and when looking at the wine category individually. For overall spend, customers that have children did start to spend more once their children hit their teens, but customers with teens still spend less than customers with no children. <br>\n",
    "\n",
    "When looking at the wine category, looked at how both number of children and marital status affected the amount spent on wine. We determined that marital status did not have much affect. Those with zero children spent the most on wine over the last two years, regardless of their marital status. An interesting next step here could be to also look at the customer age bin. <br>\n",
    "\n",
    "There are a lot more questions that we could answer aout the customer base and the store from this data set. Some next steps could be to get a better understand of what the customer demographic is and if the demographic varies by spend level, along with looking deeper into coupon usage from the marketing campaigns. "
   ]
  }
 ],
 "metadata": {
  "kernelspec": {
   "display_name": "Python 3",
   "language": "python",
   "name": "python3"
  },
  "language_info": {
   "codemirror_mode": {
    "name": "ipython",
    "version": 3
   },
   "file_extension": ".py",
   "mimetype": "text/x-python",
   "name": "python",
   "nbconvert_exporter": "python",
   "pygments_lexer": "ipython3",
   "version": "3.8.8"
  }
 },
 "nbformat": 4,
 "nbformat_minor": 5
}
